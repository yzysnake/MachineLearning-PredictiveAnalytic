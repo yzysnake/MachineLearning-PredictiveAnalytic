{
 "cells": [
  {
   "cell_type": "code",
   "execution_count": null,
   "id": "initial_id",
   "metadata": {
    "collapsed": true
   },
   "outputs": [],
   "source": [
    "import pandas as pd\n",
    "import pickle\n",
    "from sklearn.svm import SVR"
   ]
  },
  {
   "cell_type": "markdown",
   "source": [
    "## Read Data"
   ],
   "metadata": {
    "collapsed": false
   },
   "id": "a8e3b581d0ecc0f"
  },
  {
   "cell_type": "code",
   "execution_count": null,
   "outputs": [],
   "source": [
    "train_slice_df = pd.read_csv(\"slice_std_train.csv\")\n",
    "test_slice_df = pd.read_csv(\"slice_std_test.csv\")\n",
    "print(train_slice_df.shape, test_slice_df.shape)"
   ],
   "metadata": {
    "collapsed": false
   },
   "id": "420044fa0b124b82"
  },
  {
   "cell_type": "code",
   "execution_count": null,
   "outputs": [],
   "source": [
    "X_train = train_slice_df[train_slice_df.columns[:-1]]\n",
    "y_train = train_slice_df[train_slice_df.columns[-1]]\n",
    "X_test = test_slice_df[train_slice_df.columns[:-1]]\n",
    "y_test = test_slice_df[train_slice_df.columns[-1]]"
   ],
   "metadata": {
    "collapsed": false
   },
   "id": "9d62461ac555bc3a"
  },
  {
   "cell_type": "markdown",
   "source": [
    "## Create Model"
   ],
   "metadata": {
    "collapsed": false
   },
   "id": "7ebe080cf89ca148"
  },
  {
   "cell_type": "code",
   "execution_count": null,
   "outputs": [],
   "source": [],
   "metadata": {
    "collapsed": false
   },
   "id": "85d637cc1bacbc99"
  },
  {
   "cell_type": "code",
   "execution_count": null,
   "outputs": [],
   "source": [],
   "metadata": {
    "collapsed": false
   },
   "id": "94e2a05b7ef7617d"
  },
  {
   "cell_type": "markdown",
   "source": [
    "## Get Metric"
   ],
   "metadata": {
    "collapsed": false
   },
   "id": "b740a221a25a729a"
  },
  {
   "cell_type": "code",
   "execution_count": null,
   "outputs": [],
   "source": [
    "validation_svm = {'AIC': None, 'R2': m_R2, 'RMSE': m_RMSE, 'MAE': m_MAE, 'num_variables': m_num_variables}"
   ],
   "metadata": {
    "collapsed": false
   },
   "id": "7c880e88180a7629"
  },
  {
   "cell_type": "markdown",
   "source": [
    "## Dump Answer"
   ],
   "metadata": {
    "collapsed": false
   },
   "id": "6207d00693a49940"
  },
  {
   "cell_type": "code",
   "execution_count": null,
   "outputs": [],
   "source": [
    "with open('answer4.pickle', 'rb') as f:\n",
    "    old_results = pickle.load(f)"
   ],
   "metadata": {
    "collapsed": false
   },
   "id": "73348400a26dd807"
  },
  {
   "cell_type": "code",
   "execution_count": null,
   "outputs": [],
   "source": [
    "old_results['Validation']['validation_svm'] = validation_svm"
   ],
   "metadata": {
    "collapsed": false
   },
   "id": "938bb5a92df46ad2"
  },
  {
   "cell_type": "code",
   "execution_count": null,
   "outputs": [],
   "source": [
    "res = {'Validation': old_results['Validation'],\n",
    "        'SVM_Model' = svmModel)"
   ],
   "metadata": {
    "collapsed": false
   },
   "id": "c4a078843d81a053"
  },
  {
   "cell_type": "code",
   "execution_count": null,
   "outputs": [],
   "source": [
    "with open('answer5.pickle', 'wb') as f:\n",
    " pickle.dump(res,f)"
   ],
   "metadata": {
    "collapsed": false
   },
   "id": "3d53fa5a78250ca7"
  }
 ],
 "metadata": {
  "kernelspec": {
   "display_name": "Python 3",
   "language": "python",
   "name": "python3"
  },
  "language_info": {
   "codemirror_mode": {
    "name": "ipython",
    "version": 2
   },
   "file_extension": ".py",
   "mimetype": "text/x-python",
   "name": "python",
   "nbconvert_exporter": "python",
   "pygments_lexer": "ipython2",
   "version": "2.7.6"
  }
 },
 "nbformat": 4,
 "nbformat_minor": 5
}
