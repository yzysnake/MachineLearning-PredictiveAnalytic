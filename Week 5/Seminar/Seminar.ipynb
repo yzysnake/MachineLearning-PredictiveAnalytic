{
 "cells": [
  {
   "cell_type": "code",
   "execution_count": 76,
   "id": "initial_id",
   "metadata": {
    "collapsed": true,
    "ExecuteTime": {
     "end_time": "2024-04-18T17:43:47.003200Z",
     "start_time": "2024-04-18T17:43:47.000950Z"
    }
   },
   "outputs": [],
   "source": [
    "import pandas as pd\n",
    "import pickle\n",
    "from sklearn.metrics import mean_squared_error, mean_absolute_error, r2_score\n",
    "import numpy as np"
   ]
  },
  {
   "cell_type": "markdown",
   "source": [
    "## Read Data"
   ],
   "metadata": {
    "collapsed": false
   },
   "id": "a8e3b581d0ecc0f"
  },
  {
   "cell_type": "code",
   "execution_count": 77,
   "outputs": [
    {
     "name": "stdout",
     "output_type": "stream",
     "text": [
      "(42800, 361) (10700, 361)\n"
     ]
    }
   ],
   "source": [
    "train_slice_df = pd.read_csv(\"slice_std_train.csv\")\n",
    "test_slice_df = pd.read_csv(\"slice_std_test.csv\")\n",
    "print(train_slice_df.shape, test_slice_df.shape)"
   ],
   "metadata": {
    "collapsed": false,
    "ExecuteTime": {
     "end_time": "2024-04-18T17:43:53.719716Z",
     "start_time": "2024-04-18T17:43:48.929786Z"
    }
   },
   "id": "420044fa0b124b82"
  },
  {
   "cell_type": "code",
   "execution_count": 78,
   "outputs": [],
   "source": [
    "X_train = train_slice_df[train_slice_df.columns[:-1]]\n",
    "y_train = train_slice_df[train_slice_df.columns[-1]]\n",
    "X_test = test_slice_df[train_slice_df.columns[:-1]]\n",
    "y_test = test_slice_df[train_slice_df.columns[-1]]"
   ],
   "metadata": {
    "collapsed": false,
    "ExecuteTime": {
     "end_time": "2024-04-18T17:43:53.754090Z",
     "start_time": "2024-04-18T17:43:53.720794Z"
    }
   },
   "id": "9d62461ac555bc3a"
  },
  {
   "cell_type": "markdown",
   "source": [
    "## Create Model"
   ],
   "metadata": {
    "collapsed": false
   },
   "id": "7ebe080cf89ca148"
  },
  {
   "cell_type": "code",
   "outputs": [],
   "source": [
    "# Use GPU-acceleration to find the best parameter with grid search based on MAE\n",
    "\n",
    "from cuml.svm import SVR\n",
    "Cs = [0.1, 1, 10, 50, 100, 200]\n",
    "gammas = ['scale', 'auto']\n",
    "epsilons = [0.001, 0.01, 0.1, 0.2]\n",
    "\n",
    "# Placeholder for the best model and score\n",
    "best_model = None\n",
    "best_score = float('inf')\n",
    "\n",
    "# Parameter tuning\n",
    "for C in Cs:\n",
    "        for gamma in gammas:\n",
    "            for epsilon in epsilons:\n",
    "                # Initialize and train the model\n",
    "                svr = SVR(kernel='rbf', C=C, gamma=gamma, epsilon=epsilon)\n",
    "                svr.fit(X_train, y_train)\n",
    "                \n",
    "                # Predict and evaluate\n",
    "                y_pred = svr.predict(X_test)\n",
    "                m_MAE = mean_absolute_error(y_test, y_pred)\n",
    "                \n",
    "                # Check if this model is better\n",
    "                if m_MAE < best_score:\n",
    "                    best_score = m_MAE\n",
    "                    best_model = svr\n",
    "                    print(f\"New best parameters: C={C}, Gamma={gamma}, Epsilon={epsilon}, MSE={m_MAE}\")\n",
    "\n",
    "# Final evaluation\n",
    "y_pred = best_model.predict(X_test)\n",
    "rmse = np.sqrt(mean_squared_error(y_test, y_pred))\n",
    "mae = mean_absolute_error(y_test, y_pred)\n",
    "\n",
    "print(f\"Best Model RMSE: {rmse}\")\n",
    "print(f\"Best Model MAE: {mae}\")"
   ],
   "metadata": {
    "collapsed": false
   },
   "id": "53a83bbfc05acc46"
  },
  {
   "cell_type": "code",
   "execution_count": null,
   "outputs": [],
   "source": [
    "from sklearn.svm import SVR \n",
    "\n",
    "# Create and train the SVR model\n",
    "svr_model = SVR(kernel=\"rbf\", C=200, gamma=\"auto\", epsilon=0.001, verbose=True)\n",
    "svr_model.fit(X_train, y_train)\n",
    "y_pred = svr_model.predict(X_test)"
   ],
   "metadata": {
    "collapsed": false
   },
   "id": "85d637cc1bacbc99"
  },
  {
   "cell_type": "markdown",
   "source": [
    "## Get Metric"
   ],
   "metadata": {
    "collapsed": false
   },
   "id": "b740a221a25a729a"
  },
  {
   "cell_type": "code",
   "outputs": [],
   "source": [
    "# Compute the metrics\n",
    "m_RMSE = np.sqrt(mean_squared_error(y_test, y_pred))\n",
    "m_MAE = mean_absolute_error(y_test, y_pred)\n",
    "m_R2 = r2_score(y_test, y_pred)\n",
    "m_num_variables = X_train.shape[1]  # Number of predictor variables"
   ],
   "metadata": {
    "collapsed": false,
    "ExecuteTime": {
     "end_time": "2024-04-18T20:50:19.759513Z",
     "start_time": "2024-04-18T20:50:19.756374Z"
    }
   },
   "id": "cde1c737bb486c5d",
   "execution_count": 80
  },
  {
   "cell_type": "code",
   "execution_count": 81,
   "outputs": [],
   "source": [
    "validation_svm = {'AIC': None, 'R2': m_R2, 'RMSE': m_RMSE, 'MAE': m_MAE, 'num_variables': m_num_variables}"
   ],
   "metadata": {
    "collapsed": false,
    "ExecuteTime": {
     "end_time": "2024-04-18T20:50:20.333183Z",
     "start_time": "2024-04-18T20:50:20.330853Z"
    }
   },
   "id": "7c880e88180a7629"
  },
  {
   "cell_type": "code",
   "outputs": [
    {
     "data": {
      "text/plain": "{'AIC': None,\n 'R2': 0.9991770979784319,\n 'RMSE': 0.6415018701405892,\n 'MAE': 0.339972046748102,\n 'num_variables': 360}"
     },
     "execution_count": 82,
     "metadata": {},
     "output_type": "execute_result"
    }
   ],
   "source": [
    "# For RMSE - 0.64238\n",
    "# for MAE - 0.34035\n",
    "validation_svm"
   ],
   "metadata": {
    "collapsed": false,
    "ExecuteTime": {
     "end_time": "2024-04-18T20:50:21.358408Z",
     "start_time": "2024-04-18T20:50:21.355767Z"
    }
   },
   "id": "d3dfcd245e05b188",
   "execution_count": 82
  },
  {
   "cell_type": "markdown",
   "source": [
    "## Dump Answer"
   ],
   "metadata": {
    "collapsed": false
   },
   "id": "6207d00693a49940"
  },
  {
   "cell_type": "code",
   "execution_count": null,
   "outputs": [],
   "source": [
    "with open('answer4.pickle', 'rb') as f:\n",
    "    old_results = pickle.load(f)"
   ],
   "metadata": {
    "collapsed": false
   },
   "id": "73348400a26dd807"
  },
  {
   "cell_type": "code",
   "execution_count": 83,
   "outputs": [],
   "source": [
    "old_results['Validation']['validation_svm'] = validation_svm"
   ],
   "metadata": {
    "collapsed": false,
    "ExecuteTime": {
     "end_time": "2024-04-18T20:50:30.234341Z",
     "start_time": "2024-04-18T20:50:30.232219Z"
    }
   },
   "id": "938bb5a92df46ad2"
  },
  {
   "cell_type": "code",
   "execution_count": 84,
   "outputs": [],
   "source": [
    "res = {'Validation': old_results['Validation'],\n",
    "        'SVM_Model' : svr_model}"
   ],
   "metadata": {
    "collapsed": false,
    "ExecuteTime": {
     "end_time": "2024-04-18T20:50:30.613975Z",
     "start_time": "2024-04-18T20:50:30.611584Z"
    }
   },
   "id": "c4a078843d81a053"
  },
  {
   "cell_type": "code",
   "execution_count": 85,
   "outputs": [],
   "source": [
    "with open('answer5.pickle', 'wb') as f:\n",
    " pickle.dump(res,f)"
   ],
   "metadata": {
    "collapsed": false,
    "ExecuteTime": {
     "end_time": "2024-04-18T20:50:32.143030Z",
     "start_time": "2024-04-18T20:50:31.236128Z"
    }
   },
   "id": "3d53fa5a78250ca7"
  }
 ],
 "metadata": {
  "kernelspec": {
   "display_name": "Python 3",
   "language": "python",
   "name": "python3"
  },
  "language_info": {
   "codemirror_mode": {
    "name": "ipython",
    "version": 2
   },
   "file_extension": ".py",
   "mimetype": "text/x-python",
   "name": "python",
   "nbconvert_exporter": "python",
   "pygments_lexer": "ipython2",
   "version": "2.7.6"
  }
 },
 "nbformat": 4,
 "nbformat_minor": 5
}
