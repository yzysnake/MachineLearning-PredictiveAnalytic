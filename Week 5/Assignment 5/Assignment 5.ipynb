{
 "cells": [
  {
   "cell_type": "code",
   "outputs": [],
   "source": [
    "from sklearn.svm import SVC\n",
    "from sklearn.model_selection import GridSearchCV\n",
    "from sklearn.preprocessing import MinMaxScaler\n",
    "from sklearn.pipeline import Pipeline\n",
    "import numpy as np\n",
    "import pandas as pd"
   ],
   "metadata": {
    "collapsed": false,
    "ExecuteTime": {
     "end_time": "2024-04-19T07:01:24.050016Z",
     "start_time": "2024-04-19T07:01:24.046919Z"
    }
   },
   "id": "8558648dfe3e240a",
   "execution_count": 6
  },
  {
   "cell_type": "markdown",
   "source": [
    "## Read Data"
   ],
   "metadata": {
    "collapsed": false
   },
   "id": "a57b986c00627f92"
  },
  {
   "cell_type": "code",
   "outputs": [
    {
     "name": "stdout",
     "output_type": "stream",
     "text": [
      "(1000, 4) (1000, 3)\n"
     ]
    }
   ],
   "source": [
    "train = pd.read_csv(\"train_sample.csv\")\n",
    "test = pd.read_csv(\"test_sample.csv\")\n",
    "print(train.shape, test.shape)"
   ],
   "metadata": {
    "collapsed": false,
    "ExecuteTime": {
     "end_time": "2024-04-19T06:46:59.739108Z",
     "start_time": "2024-04-19T06:46:59.717087Z"
    }
   },
   "id": "73c360b555a257f0",
   "execution_count": 2
  },
  {
   "cell_type": "code",
   "outputs": [
    {
     "data": {
      "text/plain": "   ID         x0         x1  class\n0   0  -1.536908   1.047249      0\n1   1   1.024568  15.164733      0\n2   2   0.820660   1.628443      0\n3   3  11.545803   3.518345      0\n4   4  12.607620   5.557497      0",
      "text/html": "<div>\n<style scoped>\n    .dataframe tbody tr th:only-of-type {\n        vertical-align: middle;\n    }\n\n    .dataframe tbody tr th {\n        vertical-align: top;\n    }\n\n    .dataframe thead th {\n        text-align: right;\n    }\n</style>\n<table border=\"1\" class=\"dataframe\">\n  <thead>\n    <tr style=\"text-align: right;\">\n      <th></th>\n      <th>ID</th>\n      <th>x0</th>\n      <th>x1</th>\n      <th>class</th>\n    </tr>\n  </thead>\n  <tbody>\n    <tr>\n      <th>0</th>\n      <td>0</td>\n      <td>-1.536908</td>\n      <td>1.047249</td>\n      <td>0</td>\n    </tr>\n    <tr>\n      <th>1</th>\n      <td>1</td>\n      <td>1.024568</td>\n      <td>15.164733</td>\n      <td>0</td>\n    </tr>\n    <tr>\n      <th>2</th>\n      <td>2</td>\n      <td>0.820660</td>\n      <td>1.628443</td>\n      <td>0</td>\n    </tr>\n    <tr>\n      <th>3</th>\n      <td>3</td>\n      <td>11.545803</td>\n      <td>3.518345</td>\n      <td>0</td>\n    </tr>\n    <tr>\n      <th>4</th>\n      <td>4</td>\n      <td>12.607620</td>\n      <td>5.557497</td>\n      <td>0</td>\n    </tr>\n  </tbody>\n</table>\n</div>"
     },
     "execution_count": 3,
     "metadata": {},
     "output_type": "execute_result"
    }
   ],
   "source": [
    "train.head(5)"
   ],
   "metadata": {
    "collapsed": false,
    "ExecuteTime": {
     "end_time": "2024-04-19T06:47:01.370911Z",
     "start_time": "2024-04-19T06:47:01.361655Z"
    }
   },
   "id": "16ead0c7ffa4b410",
   "execution_count": 3
  },
  {
   "cell_type": "code",
   "outputs": [
    {
     "data": {
      "text/plain": "   ID         x0         x1\n0   0  22.076855  -2.785190\n1   1   7.905336   3.132435\n2   2  -4.586772  14.183051\n3   3  22.194153  16.717894\n4   4   8.273831  19.694569",
      "text/html": "<div>\n<style scoped>\n    .dataframe tbody tr th:only-of-type {\n        vertical-align: middle;\n    }\n\n    .dataframe tbody tr th {\n        vertical-align: top;\n    }\n\n    .dataframe thead th {\n        text-align: right;\n    }\n</style>\n<table border=\"1\" class=\"dataframe\">\n  <thead>\n    <tr style=\"text-align: right;\">\n      <th></th>\n      <th>ID</th>\n      <th>x0</th>\n      <th>x1</th>\n    </tr>\n  </thead>\n  <tbody>\n    <tr>\n      <th>0</th>\n      <td>0</td>\n      <td>22.076855</td>\n      <td>-2.785190</td>\n    </tr>\n    <tr>\n      <th>1</th>\n      <td>1</td>\n      <td>7.905336</td>\n      <td>3.132435</td>\n    </tr>\n    <tr>\n      <th>2</th>\n      <td>2</td>\n      <td>-4.586772</td>\n      <td>14.183051</td>\n    </tr>\n    <tr>\n      <th>3</th>\n      <td>3</td>\n      <td>22.194153</td>\n      <td>16.717894</td>\n    </tr>\n    <tr>\n      <th>4</th>\n      <td>4</td>\n      <td>8.273831</td>\n      <td>19.694569</td>\n    </tr>\n  </tbody>\n</table>\n</div>"
     },
     "execution_count": 4,
     "metadata": {},
     "output_type": "execute_result"
    }
   ],
   "source": [
    "test.head(5)"
   ],
   "metadata": {
    "collapsed": false,
    "ExecuteTime": {
     "end_time": "2024-04-19T06:47:01.976044Z",
     "start_time": "2024-04-19T06:47:01.971718Z"
    }
   },
   "id": "6891cf0145beaf05",
   "execution_count": 4
  },
  {
   "cell_type": "code",
   "outputs": [],
   "source": [
    "# Prepare the data for xgboost\n",
    "X_train = train.drop(['class','ID'], axis=1)\n",
    "y_train = train['class']\n",
    "feature_columns = ['x0', 'x1']\n",
    "X_test = test[feature_columns]"
   ],
   "metadata": {
    "collapsed": false,
    "ExecuteTime": {
     "end_time": "2024-04-19T06:59:21.151299Z",
     "start_time": "2024-04-19T06:59:21.148379Z"
    }
   },
   "id": "985da09f1bfda0b0",
   "execution_count": 5
  },
  {
   "cell_type": "markdown",
   "source": [
    "## Create pipeline"
   ],
   "metadata": {
    "collapsed": false
   },
   "id": "3d2794dbee688570"
  },
  {
   "cell_type": "code",
   "outputs": [],
   "source": [
    "# Set up the pipeline with MinMaxScaler and SVC\n",
    "pipe = Pipeline([\n",
    "    ('scaler', MinMaxScaler()),\n",
    "    ('svc', SVC())\n",
    "])"
   ],
   "metadata": {
    "collapsed": false,
    "ExecuteTime": {
     "end_time": "2024-04-19T07:02:11.612532Z",
     "start_time": "2024-04-19T07:02:11.610267Z"
    }
   },
   "id": "d82c515af56f1c6e",
   "execution_count": 7
  },
  {
   "cell_type": "markdown",
   "source": [
    "## Grid Search"
   ],
   "metadata": {
    "collapsed": false
   },
   "id": "5df668f1961b30f2"
  },
  {
   "cell_type": "code",
   "outputs": [],
   "source": [
    "# Parameter grid for GridSearch\n",
    "param_grid = {\n",
    "    'svc__gamma': np.logspace(-4, 1, 6),\n",
    "    'svc__C': np.linspace(1, 500, 10)}"
   ],
   "metadata": {
    "collapsed": false,
    "ExecuteTime": {
     "end_time": "2024-04-19T07:02:13.806116Z",
     "start_time": "2024-04-19T07:02:13.803854Z"
    }
   },
   "id": "be766fe68a08fbc7",
   "execution_count": 8
  },
  {
   "cell_type": "code",
   "outputs": [
    {
     "name": "stdout",
     "output_type": "stream",
     "text": [
      "Fitting 5 folds for each of 60 candidates, totalling 300 fits\n"
     ]
    }
   ],
   "source": [
    "# Create the GridSearchCV object\n",
    "grid_search = GridSearchCV(pipe, param_grid, cv=5, verbose=10, n_jobs=-1)\n",
    "\n",
    "# Start the grid search\n",
    "grid_search.fit(X_train, y_train)\n",
    "\n",
    "# Check the best parameters found by GridSearchCV\n",
    "best_params = grid_search.best_params_\n",
    "best_score = grid_search.best_score_"
   ],
   "metadata": {
    "collapsed": false,
    "ExecuteTime": {
     "end_time": "2024-04-19T07:02:28.317979Z",
     "start_time": "2024-04-19T07:02:28.056297Z"
    }
   },
   "id": "ff8125d3a8338d94",
   "execution_count": 10
  },
  {
   "cell_type": "markdown",
   "source": [
    "## Drop Answer"
   ],
   "metadata": {
    "collapsed": false
   },
   "id": "82d4646f9730f768"
  },
  {
   "cell_type": "code",
   "outputs": [
    {
     "data": {
      "text/plain": "({'svc__C': 56.44444444444444, 'svc__gamma': 1.0}, 0.907, 'submission.csv')"
     },
     "execution_count": 11,
     "metadata": {},
     "output_type": "execute_result"
    }
   ],
   "source": [
    "# Make predictions on the test set using the best found model\n",
    "test['class'] = grid_search.predict(X_test)\n",
    "\n",
    "# Save the predictions to a CSV file\n",
    "submission_file_path = 'submission.csv'  # Path for saving the submission file\n",
    "test[['ID', 'class']].to_csv(submission_file_path, index=False)\n",
    "\n",
    "best_params, best_score, submission_file_path"
   ],
   "metadata": {
    "collapsed": false,
    "ExecuteTime": {
     "end_time": "2024-04-19T07:02:45.074254Z",
     "start_time": "2024-04-19T07:02:45.062323Z"
    }
   },
   "id": "1447358e897f3c8a",
   "execution_count": 11
  }
 ],
 "metadata": {
  "kernelspec": {
   "display_name": "Python 3",
   "language": "python",
   "name": "python3"
  },
  "language_info": {
   "codemirror_mode": {
    "name": "ipython",
    "version": 2
   },
   "file_extension": ".py",
   "mimetype": "text/x-python",
   "name": "python",
   "nbconvert_exporter": "python",
   "pygments_lexer": "ipython2",
   "version": "2.7.6"
  }
 },
 "nbformat": 4,
 "nbformat_minor": 5
}
