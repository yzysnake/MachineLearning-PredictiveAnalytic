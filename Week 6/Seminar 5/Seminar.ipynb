{
 "cells": [
  {
   "cell_type": "code",
   "execution_count": 49,
   "id": "initial_id",
   "metadata": {
    "collapsed": true,
    "ExecuteTime": {
     "end_time": "2024-04-25T04:19:43.418891Z",
     "start_time": "2024-04-25T04:19:43.416116Z"
    }
   },
   "outputs": [],
   "source": [
    "import numpy as np\n",
    "import pandas as pd\n",
    "import matplotlib.pyplot as plt\n",
    "import tensorflow as tf\n",
    "from sklearn.preprocessing import StandardScaler, MinMaxScaler\n",
    "from tensorflow.keras import layers, models, callbacks\n",
    "from tensorflow.keras.models import Model\n",
    "from sklearn.metrics import r2_score\n",
    "from sklearn.metrics import mean_squared_error\n",
    "from tensorflow.keras.models import load_model"
   ]
  },
  {
   "cell_type": "markdown",
   "source": [
    "## Read Data"
   ],
   "metadata": {
    "collapsed": false
   },
   "id": "a8e3b581d0ecc0f"
  },
  {
   "cell_type": "code",
   "execution_count": 40,
   "outputs": [
    {
     "name": "stdout",
     "output_type": "stream",
     "text": [
      "(42800, 361) (10700, 361)\n"
     ]
    }
   ],
   "source": [
    "train_slice_df = pd.read_csv(\"slice_std_train.csv\")\n",
    "test_slice_df = pd.read_csv(\"slice_std_test.csv\")\n",
    "print(train_slice_df.shape, test_slice_df.shape)"
   ],
   "metadata": {
    "collapsed": false,
    "ExecuteTime": {
     "end_time": "2024-04-25T04:14:14.243729Z",
     "start_time": "2024-04-25T04:14:09.709705Z"
    }
   },
   "id": "420044fa0b124b82"
  },
  {
   "cell_type": "code",
   "execution_count": 41,
   "outputs": [],
   "source": [
    "X_train = train_slice_df[train_slice_df.columns[:-1]]\n",
    "y_train = train_slice_df[train_slice_df.columns[-1]]\n",
    "X_test = test_slice_df[train_slice_df.columns[:-1]]\n",
    "y_test = test_slice_df[train_slice_df.columns[-1]]"
   ],
   "metadata": {
    "collapsed": false,
    "ExecuteTime": {
     "end_time": "2024-04-25T04:14:14.273131Z",
     "start_time": "2024-04-25T04:14:14.244914Z"
    }
   },
   "id": "9d62461ac555bc3a"
  },
  {
   "cell_type": "markdown",
   "source": [
    "## Normalize data"
   ],
   "metadata": {
    "collapsed": false
   },
   "id": "7f265d32aa03d436"
  },
  {
   "cell_type": "code",
   "outputs": [],
   "source": [
    "# Initialize the StandardScaler\n",
    "scaler = StandardScaler()\n",
    "\n",
    "# Fit on training data and transform both training and test data\n",
    "X_train = scaler.fit_transform(X_train)\n",
    "X_test = scaler.transform(X_test)"
   ],
   "metadata": {
    "collapsed": false,
    "ExecuteTime": {
     "end_time": "2024-04-20T04:43:28.829445Z",
     "start_time": "2024-04-20T04:43:28.708226Z"
    }
   },
   "id": "d7f5d4a2b70097b8",
   "execution_count": 75
  },
  {
   "cell_type": "markdown",
   "source": [
    "## Create Model"
   ],
   "metadata": {
    "collapsed": false
   },
   "id": "7ebe080cf89ca148"
  },
  {
   "cell_type": "code",
   "outputs": [],
   "source": [
    "# Define the input shape\n",
    "input_layer = layers.Input(shape=(360,))\n",
    "\n",
    "# Define the architecture of the model\n",
    "x = tf.keras.layers.Dense(256, activation='relu')(input_layer)\n",
    "x = tf.keras.layers.Dense(512, activation='relu')(x)\n",
    "x = tf.keras.layers.Dense(512, activation='relu')(x)\n",
    "x = tf.keras.layers.Dense(512, activation='relu')(x)\n",
    "x = tf.keras.layers.Dense(512, activation='relu')(x)\n",
    "x = tf.keras.layers.Dense(512, activation='relu')(x)\n",
    "x = tf.keras.layers.Dense(512, activation='relu')(x)\n",
    "x = tf.keras.layers.Dense(512, activation='relu')(x)\n",
    "x = tf.keras.layers.Dense(256, activation='relu')(x)\n",
    "output_layer = layers.Dense(1, activation=\"linear\")(x)\n",
    "\n",
    "# Create the model\n",
    "model = Model(inputs=input_layer, outputs=output_layer)"
   ],
   "metadata": {
    "collapsed": false,
    "ExecuteTime": {
     "end_time": "2024-04-25T04:43:04.493164Z",
     "start_time": "2024-04-25T04:43:04.444823Z"
    }
   },
   "id": "53a83bbfc05acc46",
   "execution_count": 80
  },
  {
   "cell_type": "code",
   "outputs": [],
   "source": [
    "# Print the model summary to check the architecture\n",
    "model.summary()"
   ],
   "metadata": {
    "collapsed": false
   },
   "id": "5ebd8bb628de0adb",
   "execution_count": null
  },
  {
   "cell_type": "code",
   "execution_count": null,
   "outputs": [],
   "source": [
    "model.compile(\n",
    "    optimizer='adam',\n",
    "    loss='mse'\n",
    ")\n",
    "\n",
    "history = model.fit(\n",
    "    X_train,\n",
    "    y_train,\n",
    "    validation_split=0.2,\n",
    "    batch_size=32,\n",
    "    epochs=100,\n",
    "    callbacks=[\n",
    "        tf.keras.callbacks.EarlyStopping(\n",
    "            monitor='val_loss',\n",
    "            patience=5,\n",
    "            restore_best_weights=True\n",
    "        )\n",
    "    ]\n",
    ")"
   ],
   "metadata": {
    "collapsed": false
   },
   "id": "85d637cc1bacbc99"
  },
  {
   "cell_type": "code",
   "outputs": [],
   "source": [
    "plt.plot(history.history[\"loss\"],label=\"loss\")\n",
    "plt.plot(history.history[\"val_loss\"],label=\"val_loss\")\n",
    "plt.xlabel(\"epochs\")\n",
    "plt.ylabel(\"loss\")\n",
    "plt.title(\"Model loss\")\n",
    "plt.show()"
   ],
   "metadata": {
    "collapsed": false
   },
   "id": "c38038330c6f3354",
   "execution_count": null
  },
  {
   "cell_type": "markdown",
   "source": [
    "## Get Metric"
   ],
   "metadata": {
    "collapsed": false
   },
   "id": "b740a221a25a729a"
  },
  {
   "cell_type": "code",
   "outputs": [
    {
     "name": "stdout",
     "output_type": "stream",
     "text": [
      "335/335 [==============================] - 0s 1ms/step\n",
      "r2 score is 0.9992368407243034:\n",
      "\n",
      "\n",
      "RMSE is 0.6177766022517834:\n"
     ]
    }
   ],
   "source": [
    "pred=model.predict(X_test)\n",
    "rmse=np.sqrt(mean_squared_error(y_test, pred))\n",
    "r2=r2_score(y_test, pred)\n",
    "print(\"r2 score is {}:\".format(r2))\n",
    "print(\"\\n\")\n",
    "print(\"RMSE is {}:\".format(rmse))"
   ],
   "metadata": {
    "collapsed": false,
    "ExecuteTime": {
     "end_time": "2024-04-25T04:42:56.145703Z",
     "start_time": "2024-04-25T04:42:55.658281Z"
    }
   },
   "id": "cde1c737bb486c5d",
   "execution_count": 79
  },
  {
   "cell_type": "markdown",
   "source": [
    "## Dump Answer"
   ],
   "metadata": {
    "collapsed": false
   },
   "id": "6207d00693a49940"
  },
  {
   "cell_type": "code",
   "execution_count": 63,
   "outputs": [],
   "source": [
    "model.save('my_model.h5')"
   ],
   "metadata": {
    "collapsed": false,
    "ExecuteTime": {
     "end_time": "2024-04-25T04:35:44.504782Z",
     "start_time": "2024-04-25T04:35:44.384557Z"
    }
   },
   "id": "73348400a26dd807"
  }
 ],
 "metadata": {
  "kernelspec": {
   "display_name": "Python 3",
   "language": "python",
   "name": "python3"
  },
  "language_info": {
   "codemirror_mode": {
    "name": "ipython",
    "version": 2
   },
   "file_extension": ".py",
   "mimetype": "text/x-python",
   "name": "python",
   "nbconvert_exporter": "python",
   "pygments_lexer": "ipython2",
   "version": "2.7.6"
  }
 },
 "nbformat": 4,
 "nbformat_minor": 5
}
