{
 "cells": [
  {
   "cell_type": "code",
   "execution_count": 1,
   "id": "initial_id",
   "metadata": {
    "collapsed": true,
    "ExecuteTime": {
     "end_time": "2024-04-13T01:36:27.371192Z",
     "start_time": "2024-04-13T01:36:26.752596Z"
    }
   },
   "outputs": [],
   "source": [
    "import warnings\n",
    "warnings.filterwarnings('ignore')\n",
    "from sklearn.tree import DecisionTreeRegressor\n",
    "from sklearn.ensemble import RandomForestRegressor\n",
    "from sklearn.metrics import mean_squared_error, mean_absolute_error, r2_score\n",
    "from sklearn.model_selection import GridSearchCV\n",
    "import pandas as pd\n",
    "import pickle"
   ]
  },
  {
   "cell_type": "code",
   "outputs": [
    {
     "name": "stdout",
     "output_type": "stream",
     "text": [
      "(42800, 361) (10700, 361)\n"
     ]
    }
   ],
   "source": [
    "train_slice_df = pd.read_csv(\"slice_std_train.csv\")\n",
    "test_slice_df = pd.read_csv(\"slice_std_test.csv\")\n",
    "print(train_slice_df.shape, test_slice_df.shape)"
   ],
   "metadata": {
    "collapsed": false,
    "ExecuteTime": {
     "end_time": "2024-04-13T01:36:31.139019Z",
     "start_time": "2024-04-13T01:36:29.536339Z"
    }
   },
   "id": "2d95bf7133a09c36",
   "execution_count": 2
  },
  {
   "cell_type": "code",
   "outputs": [],
   "source": [
    "# Open the pickle file in binary read mode\n",
    "with open('result1.pickle', 'rb') as file:\n",
    "    old_results  = pickle.load(file)"
   ],
   "metadata": {
    "collapsed": false,
    "ExecuteTime": {
     "end_time": "2024-04-13T01:36:31.142393Z",
     "start_time": "2024-04-13T01:36:31.139019Z"
    }
   },
   "id": "b489c240bbc6ba63",
   "execution_count": 3
  },
  {
   "cell_type": "code",
   "outputs": [],
   "source": [
    "X_train = train_slice_df.drop('Y', axis=1)\n",
    "y_train = train_slice_df['Y']\n",
    "X_test = test_slice_df.drop('Y', axis=1)\n",
    "y_test = test_slice_df['Y']"
   ],
   "metadata": {
    "collapsed": false,
    "ExecuteTime": {
     "end_time": "2024-04-13T01:36:31.187552Z",
     "start_time": "2024-04-13T01:36:31.142393Z"
    }
   },
   "id": "93f77b0f50af51f1",
   "execution_count": 4
  },
  {
   "cell_type": "markdown",
   "source": [
    "## Decision Tree Model"
   ],
   "metadata": {
    "collapsed": false
   },
   "id": "91d1f2e485fd1d6b"
  },
  {
   "cell_type": "code",
   "outputs": [],
   "source": [
    "def find_optimal_min_samples_leaf(X_train, y_train, X_test, y_test):\n",
    "    # Create a range of values to test for min_samples_leaf\n",
    "    parameters = {'min_samples_leaf': range(2, 51)}  # checking from 1 to 50 as an example\n",
    "    dt_regressor = DecisionTreeRegressor(random_state=0)\n",
    "\n",
    "    # Use GridSearchCV to find the optimal min_samples_leaf\n",
    "    # by trying all values from 1 to 50 and evaluating using RMSE\n",
    "    clf = GridSearchCV(dt_regressor, parameters, scoring='neg_mean_squared_error', cv=5, n_jobs=-1)\n",
    "    clf.fit(X_train, y_train)\n",
    "\n",
    "    # Check each candidate model\n",
    "    for model in clf.cv_results_['params']:\n",
    "        dt_regressor.set_params(**model)\n",
    "        dt_regressor.fit(X_train, y_train)\n",
    "        predictions = dt_regressor.predict(X_test)\n",
    "        RMSE = mean_squared_error(y_test, predictions, squared=False)\n",
    "        MAE = mean_absolute_error(y_test, predictions)\n",
    "        \n",
    "        # If the model meets the criteria, return it\n",
    "        if RMSE <= 4.35 and MAE <= 1.5:\n",
    "            return model['min_samples_leaf'], RMSE, MAE\n",
    "\n",
    "    # If no model meets the criteria, return None\n",
    "    return None"
   ],
   "metadata": {
    "collapsed": false,
    "ExecuteTime": {
     "end_time": "2024-04-13T01:36:31.748549Z",
     "start_time": "2024-04-13T01:36:31.743941Z"
    }
   },
   "id": "e08efd40c10dbe41",
   "execution_count": 5
  },
  {
   "cell_type": "code",
   "outputs": [
    {
     "data": {
      "text/plain": "(2, 2.3283972634840713, 0.4466481835202493)"
     },
     "execution_count": 6,
     "metadata": {},
     "output_type": "execute_result"
    }
   ],
   "source": [
    "find_optimal_min_samples_leaf(X_train, y_train, X_test, y_test)"
   ],
   "metadata": {
    "collapsed": false,
    "ExecuteTime": {
     "end_time": "2024-04-13T01:37:23.970124Z",
     "start_time": "2024-04-13T01:36:32.564228Z"
    }
   },
   "id": "1560713341041a20",
   "execution_count": 6
  },
  {
   "cell_type": "code",
   "outputs": [],
   "source": [
    "# Create and fit a decision tree model with default parameters and random_state=0\n",
    "dt_model = DecisionTreeRegressor(random_state=0, min_samples_leaf = 32)\n",
    "dt_model.fit(X_train, y_train)\n",
    "\n",
    "# Make predictions and calculate RMSE and MAE for the test set\n",
    "dt_predictions = dt_model.predict(X_test)\n",
    "dt_RMSE = mean_squared_error(y_test, dt_predictions, squared=False)\n",
    "dt_MAE = mean_absolute_error(y_test, dt_predictions)\n",
    "\n",
    "# Initialize the dictionary to store validation metrics\n",
    "validation_decision_tree = {'AIC': None, 'R2': None, 'RMSE': dt_RMSE, 'MAE': dt_MAE, 'num_variables': X_train.shape[1], 'min_samples_leaf': dt_model.min_samples_leaf}"
   ],
   "metadata": {
    "collapsed": false,
    "ExecuteTime": {
     "end_time": "2024-04-13T01:49:48.880785Z",
     "start_time": "2024-04-13T01:49:45.528212Z"
    }
   },
   "id": "f0adf7bf695721e6",
   "execution_count": 28
  },
  {
   "cell_type": "markdown",
   "source": [
    "## Random Forest"
   ],
   "metadata": {
    "collapsed": false
   },
   "id": "5056729d3188674a"
  },
  {
   "cell_type": "code",
   "outputs": [],
   "source": [
    "def find_optimal_n_estimators(X_train, y_train, X_test, y_test):\n",
    "    optimal_values = {}\n",
    "\n",
    "    # Range of `n_estimators` to test: from 10 up to a reasonable upper limit\n",
    "    # We will start from 10 and increase stepwise. This range can be adjusted.\n",
    "    for n_estimators in range(20, 30):\n",
    "        rf_regressor = RandomForestRegressor(n_estimators=n_estimators, n_jobs=-1, random_state=0)\n",
    "        rf_regressor.fit(X_train, y_train)\n",
    "\n",
    "        # Make predictions on the test set\n",
    "        predictions = rf_regressor.predict(X_test)\n",
    "        RMSE = mean_squared_error(y_test, predictions, squared=False)\n",
    "        MAE = mean_absolute_error(y_test, predictions)\n",
    "\n",
    "        # Check if the obtained values meet the validation criteria\n",
    "        if RMSE <= 1.4 and MAE <= 0.41:\n",
    "            optimal_values = {'n_estimators': n_estimators, 'RMSE': RMSE, 'MAE': MAE, 'num_variables': X_train.shape[1]}\n",
    "            break  # No need to check for more estimators if criteria are met\n",
    "\n",
    "    return optimal_values"
   ],
   "metadata": {
    "collapsed": false,
    "ExecuteTime": {
     "end_time": "2024-04-13T01:37:39.007072Z",
     "start_time": "2024-04-13T01:37:39.003652Z"
    }
   },
   "id": "345582e526d8c412",
   "execution_count": 8
  },
  {
   "cell_type": "code",
   "outputs": [
    {
     "data": {
      "text/plain": "{'n_estimators': 28,\n 'RMSE': 1.393080074828867,\n 'MAE': 0.4086587568674898,\n 'num_variables': 360}"
     },
     "execution_count": 9,
     "metadata": {},
     "output_type": "execute_result"
    }
   ],
   "source": [
    "find_optimal_n_estimators(X_train, y_train, X_test, y_test)"
   ],
   "metadata": {
    "collapsed": false,
    "ExecuteTime": {
     "end_time": "2024-04-13T01:38:58.768722Z",
     "start_time": "2024-04-13T01:37:39.541732Z"
    }
   },
   "id": "97e5aed9363d8829",
   "execution_count": 9
  },
  {
   "cell_type": "code",
   "outputs": [],
   "source": [
    "# Fit a random forest model with default parameters and random_state=0\n",
    "rf_model = RandomForestRegressor(random_state=0, n_jobs=-1, n_estimators=28)\n",
    "rf_model.fit(X_train, y_train)\n",
    "\n",
    "# Make predictions and calculate RMSE and MAE for the test set\n",
    "rf_predictions = rf_model.predict(X_test)\n",
    "rf_RMSE = mean_squared_error(y_test, rf_predictions, squared=False)\n",
    "rf_MAE = mean_absolute_error(y_test, rf_predictions)\n",
    "\n",
    "# Initialize the dictionary to store validation metrics for the random forest\n",
    "validation_rf = {'AIC': None, 'R2': None, 'RMSE': rf_RMSE, 'MAE': rf_MAE, 'num_variables': X_train.shape[1], 'n_estimators': 28}"
   ],
   "metadata": {
    "collapsed": false,
    "ExecuteTime": {
     "end_time": "2024-04-13T01:50:28.770864Z",
     "start_time": "2024-04-13T01:50:20.920691Z"
    }
   },
   "id": "a7a0ba43e4e9f4c7",
   "execution_count": 31
  },
  {
   "cell_type": "markdown",
   "source": [
    "## Dump Answer"
   ],
   "metadata": {
    "collapsed": false
   },
   "id": "7f018b30cca5796d"
  },
  {
   "cell_type": "code",
   "outputs": [
    {
     "data": {
      "text/plain": "{'validation_reduced_lm': {'AIC': 302514.48178790975,\n  'R2': 0.8638882045172942,\n  'RMSE': 8.450981711744108,\n  'MAE': 6.249744339096156,\n  'num_variables': 245},\n 'validation_PCR': {'AIC': 302506.1882273548,\n  'R2': 0.8638954982621725,\n  'RMSE': 8.447360569858315,\n  'MAE': 6.245095210025417,\n  'num_variables': 242},\n 'validation_ridge': {'AIC': None,\n  'R2': 0.858229094231964,\n  'RMSE': 8.420103292960205,\n  'MAE': 6.213675468649426,\n  'num_variables': 360},\n 'validation_lasso': {'AIC': None,\n  'R2': 0.8580481710035675,\n  'RMSE': 8.425474305254362,\n  'MAE': 6.2043910454752424,\n  'num_variables': 325},\n 'validation_decision_tree': {'AIC': None,\n  'R2': None,\n  'RMSE': 4.268502905218808,\n  'MAE': 1.4931511913628603,\n  'num_variables': 360,\n  'min_samples_leaf': 32},\n 'validation_rf': {'AIC': None,\n  'R2': None,\n  'RMSE': 1.393080074828867,\n  'MAE': 0.40865875686748976,\n  'num_variables': 360,\n  'n_estimators': 28}}"
     },
     "execution_count": 32,
     "metadata": {},
     "output_type": "execute_result"
    }
   ],
   "source": [
    "old_results['Validation']['validation_decision_tree'] = validation_decision_tree\n",
    "old_results['Validation']['validation_rf'] = validation_rf\n",
    "old_results['Validation']"
   ],
   "metadata": {
    "collapsed": false,
    "ExecuteTime": {
     "end_time": "2024-04-13T01:50:30.778691Z",
     "start_time": "2024-04-13T01:50:30.771458Z"
    }
   },
   "id": "ed9770d4580cbe16",
   "execution_count": 32
  },
  {
   "cell_type": "markdown",
   "source": [],
   "metadata": {
    "collapsed": false
   },
   "id": "6fdb1cbafead2c64"
  },
  {
   "cell_type": "code",
   "outputs": [],
   "source": [
    "res = {'Validation': old_results['Validation'],\n",
    "        'dt_model' : dt_model,\n",
    "        'rf_model' : rf_model}"
   ],
   "metadata": {
    "collapsed": false,
    "ExecuteTime": {
     "end_time": "2024-04-13T01:50:34.612308Z",
     "start_time": "2024-04-13T01:50:34.606208Z"
    }
   },
   "id": "b96847c3a5676532",
   "execution_count": 33
  },
  {
   "cell_type": "code",
   "outputs": [],
   "source": [
    "with open('result2.pickle', 'wb') as f:\n",
    "    pickle.dump(res,f)"
   ],
   "metadata": {
    "collapsed": false,
    "ExecuteTime": {
     "end_time": "2024-04-13T01:50:35.309505Z",
     "start_time": "2024-04-13T01:50:35.255553Z"
    }
   },
   "id": "32cf4fe4921b03df",
   "execution_count": 34
  },
  {
   "cell_type": "code",
   "outputs": [],
   "source": [],
   "metadata": {
    "collapsed": false
   },
   "id": "98295ad77f55e9f1"
  }
 ],
 "metadata": {
  "kernelspec": {
   "display_name": "Python 3",
   "language": "python",
   "name": "python3"
  },
  "language_info": {
   "codemirror_mode": {
    "name": "ipython",
    "version": 2
   },
   "file_extension": ".py",
   "mimetype": "text/x-python",
   "name": "python",
   "nbconvert_exporter": "python",
   "pygments_lexer": "ipython2",
   "version": "2.7.6"
  }
 },
 "nbformat": 4,
 "nbformat_minor": 5
}
