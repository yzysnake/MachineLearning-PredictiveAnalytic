{
 "cells": [
  {
   "cell_type": "code",
   "outputs": [],
   "source": [
    "import numpy as np\n",
    "import pandas as pd\n",
    "import xgboost as xgb\n",
    "from sklearn.model_selection import train_test_split, cross_val_score\n",
    "from sklearn.ensemble import RandomForestClassifier\n",
    "from sklearn.metrics import roc_auc_score"
   ],
   "metadata": {
    "collapsed": false,
    "ExecuteTime": {
     "end_time": "2024-04-12T07:00:00.853745Z",
     "start_time": "2024-04-12T07:00:00.325148Z"
    }
   },
   "id": "8558648dfe3e240a",
   "execution_count": 6
  },
  {
   "cell_type": "markdown",
   "source": [
    "## Read Data"
   ],
   "metadata": {
    "collapsed": false
   },
   "id": "a57b986c00627f92"
  },
  {
   "cell_type": "code",
   "outputs": [
    {
     "name": "stdout",
     "output_type": "stream",
     "text": [
      "(500, 8) (500, 7)\n"
     ]
    }
   ],
   "source": [
    "train = pd.read_csv(\"train_sample.csv\")\n",
    "test = pd.read_csv(\"test_sample.csv\")\n",
    "print(train.shape, test.shape)"
   ],
   "metadata": {
    "collapsed": false,
    "ExecuteTime": {
     "end_time": "2024-04-12T07:02:17.729119Z",
     "start_time": "2024-04-12T07:02:17.724279Z"
    }
   },
   "id": "73c360b555a257f0",
   "execution_count": 11
  },
  {
   "cell_type": "code",
   "outputs": [
    {
     "data": {
      "text/plain": "         X1        X2        X3        X4        X5        X6        X7  class\n0  0.575166  0.492272  0.075526  0.746659  0.999195  0.603935  0.547301      1\n1  0.743337  0.576061  0.117977  0.134242  0.512801  0.799901  0.107309      0\n2  0.129573  0.181200  0.834259  0.919458  0.648286  0.009957  0.219813      0\n3  0.429477  0.658689  0.298046  0.670946  0.292823  0.535506  0.186334      0\n4  0.089494  0.921228  0.382613  0.929615  0.043172  0.249534  0.017286      0",
      "text/html": "<div>\n<style scoped>\n    .dataframe tbody tr th:only-of-type {\n        vertical-align: middle;\n    }\n\n    .dataframe tbody tr th {\n        vertical-align: top;\n    }\n\n    .dataframe thead th {\n        text-align: right;\n    }\n</style>\n<table border=\"1\" class=\"dataframe\">\n  <thead>\n    <tr style=\"text-align: right;\">\n      <th></th>\n      <th>X1</th>\n      <th>X2</th>\n      <th>X3</th>\n      <th>X4</th>\n      <th>X5</th>\n      <th>X6</th>\n      <th>X7</th>\n      <th>class</th>\n    </tr>\n  </thead>\n  <tbody>\n    <tr>\n      <th>0</th>\n      <td>0.575166</td>\n      <td>0.492272</td>\n      <td>0.075526</td>\n      <td>0.746659</td>\n      <td>0.999195</td>\n      <td>0.603935</td>\n      <td>0.547301</td>\n      <td>1</td>\n    </tr>\n    <tr>\n      <th>1</th>\n      <td>0.743337</td>\n      <td>0.576061</td>\n      <td>0.117977</td>\n      <td>0.134242</td>\n      <td>0.512801</td>\n      <td>0.799901</td>\n      <td>0.107309</td>\n      <td>0</td>\n    </tr>\n    <tr>\n      <th>2</th>\n      <td>0.129573</td>\n      <td>0.181200</td>\n      <td>0.834259</td>\n      <td>0.919458</td>\n      <td>0.648286</td>\n      <td>0.009957</td>\n      <td>0.219813</td>\n      <td>0</td>\n    </tr>\n    <tr>\n      <th>3</th>\n      <td>0.429477</td>\n      <td>0.658689</td>\n      <td>0.298046</td>\n      <td>0.670946</td>\n      <td>0.292823</td>\n      <td>0.535506</td>\n      <td>0.186334</td>\n      <td>0</td>\n    </tr>\n    <tr>\n      <th>4</th>\n      <td>0.089494</td>\n      <td>0.921228</td>\n      <td>0.382613</td>\n      <td>0.929615</td>\n      <td>0.043172</td>\n      <td>0.249534</td>\n      <td>0.017286</td>\n      <td>0</td>\n    </tr>\n  </tbody>\n</table>\n</div>"
     },
     "execution_count": 12,
     "metadata": {},
     "output_type": "execute_result"
    }
   ],
   "source": [
    "train.head(5)"
   ],
   "metadata": {
    "collapsed": false,
    "ExecuteTime": {
     "end_time": "2024-04-12T07:02:18.287416Z",
     "start_time": "2024-04-12T07:02:18.282298Z"
    }
   },
   "id": "16ead0c7ffa4b410",
   "execution_count": 12
  },
  {
   "cell_type": "code",
   "outputs": [
    {
     "data": {
      "text/plain": "         X1        X2        X3        X4        X5        X6        X7\n0  0.700851  0.096902  0.458938  0.691299  0.746814  0.018623  0.479225\n1  0.223784  0.215223  0.627635  0.369224  0.654303  0.463932  0.669979\n2  0.182544  0.676885  0.016264  0.299162  0.217877  0.933902  0.579752\n3  0.084935  0.740668  0.086598  0.212974  0.261713  0.805061  0.113849\n4  0.330710  0.647138  0.486327  0.112941  0.051484  0.612233  0.469490",
      "text/html": "<div>\n<style scoped>\n    .dataframe tbody tr th:only-of-type {\n        vertical-align: middle;\n    }\n\n    .dataframe tbody tr th {\n        vertical-align: top;\n    }\n\n    .dataframe thead th {\n        text-align: right;\n    }\n</style>\n<table border=\"1\" class=\"dataframe\">\n  <thead>\n    <tr style=\"text-align: right;\">\n      <th></th>\n      <th>X1</th>\n      <th>X2</th>\n      <th>X3</th>\n      <th>X4</th>\n      <th>X5</th>\n      <th>X6</th>\n      <th>X7</th>\n    </tr>\n  </thead>\n  <tbody>\n    <tr>\n      <th>0</th>\n      <td>0.700851</td>\n      <td>0.096902</td>\n      <td>0.458938</td>\n      <td>0.691299</td>\n      <td>0.746814</td>\n      <td>0.018623</td>\n      <td>0.479225</td>\n    </tr>\n    <tr>\n      <th>1</th>\n      <td>0.223784</td>\n      <td>0.215223</td>\n      <td>0.627635</td>\n      <td>0.369224</td>\n      <td>0.654303</td>\n      <td>0.463932</td>\n      <td>0.669979</td>\n    </tr>\n    <tr>\n      <th>2</th>\n      <td>0.182544</td>\n      <td>0.676885</td>\n      <td>0.016264</td>\n      <td>0.299162</td>\n      <td>0.217877</td>\n      <td>0.933902</td>\n      <td>0.579752</td>\n    </tr>\n    <tr>\n      <th>3</th>\n      <td>0.084935</td>\n      <td>0.740668</td>\n      <td>0.086598</td>\n      <td>0.212974</td>\n      <td>0.261713</td>\n      <td>0.805061</td>\n      <td>0.113849</td>\n    </tr>\n    <tr>\n      <th>4</th>\n      <td>0.330710</td>\n      <td>0.647138</td>\n      <td>0.486327</td>\n      <td>0.112941</td>\n      <td>0.051484</td>\n      <td>0.612233</td>\n      <td>0.469490</td>\n    </tr>\n  </tbody>\n</table>\n</div>"
     },
     "execution_count": 13,
     "metadata": {},
     "output_type": "execute_result"
    }
   ],
   "source": [
    "test.head(5)"
   ],
   "metadata": {
    "collapsed": false,
    "ExecuteTime": {
     "end_time": "2024-04-12T07:02:18.764227Z",
     "start_time": "2024-04-12T07:02:18.758604Z"
    }
   },
   "id": "6891cf0145beaf05",
   "execution_count": 13
  },
  {
   "cell_type": "code",
   "outputs": [],
   "source": [
    "# Prepare the data for xgboost\n",
    "X_train = train.drop('class', axis=1)\n",
    "y_train = train['class']\n",
    "feature_columns = ['X1', 'X2', 'X3', 'X4', 'X5', 'X6', 'X7']\n",
    "X_test = test[feature_columns]"
   ],
   "metadata": {
    "collapsed": false,
    "ExecuteTime": {
     "end_time": "2024-04-12T07:11:27.849260Z",
     "start_time": "2024-04-12T07:11:27.846099Z"
    }
   },
   "id": "985da09f1bfda0b0",
   "execution_count": 28
  },
  {
   "cell_type": "markdown",
   "source": [
    "## Xgboost"
   ],
   "metadata": {
    "collapsed": false
   },
   "id": "3d2794dbee688570"
  },
  {
   "cell_type": "code",
   "outputs": [],
   "source": [
    "# Parameters for xgboost\n",
    "param = {'objective': 'binary:logistic', 'eval_metric': 'auc'}\n",
    "\n",
    "# Perform 5-fold cross-validation\n",
    "dtrain = xgb.DMatrix(X_train, label=y_train)\n",
    "cv_results = xgb.cv(param, dtrain, num_boost_round=1000, nfold=5, \n",
    "                    seed=0, stratified=True, \n",
    "                    early_stopping_rounds=10, metrics='auc')\n",
    "\n",
    "# Best number of boosting rounds\n",
    "n_best_rounds = cv_results.shape[0]\n",
    "\n",
    "# Fit xgboost model\n",
    "model = xgb.train(param, dtrain, num_boost_round=n_best_rounds)\n",
    "dtest = xgb.DMatrix(X_test)\n",
    "prediction = model.predict(dtest)"
   ],
   "metadata": {
    "collapsed": false,
    "ExecuteTime": {
     "end_time": "2024-04-12T07:11:28.492169Z",
     "start_time": "2024-04-12T07:11:28.295089Z"
    }
   },
   "id": "a7b7771529fe1499",
   "execution_count": 29
  },
  {
   "cell_type": "markdown",
   "source": [
    "## Random Forest"
   ],
   "metadata": {
    "collapsed": false
   },
   "id": "5df668f1961b30f2"
  },
  {
   "cell_type": "code",
   "outputs": [],
   "source": [
    "# Apply Random Forest\n",
    "rf = RandomForestClassifier(random_state=0)\n",
    "rf.fit(X_train, y_train)\n",
    "importances = rf.feature_importances_\n",
    "\n",
    "# Find the index of the most important feature\n",
    "rf_most_important = np.argmax(importances) + 1"
   ],
   "metadata": {
    "collapsed": false,
    "ExecuteTime": {
     "end_time": "2024-04-12T07:11:29.346326Z",
     "start_time": "2024-04-12T07:11:29.267078Z"
    }
   },
   "id": "c60744ea3c3b029e",
   "execution_count": 30
  },
  {
   "cell_type": "markdown",
   "source": [
    "## Drop Answer"
   ],
   "metadata": {
    "collapsed": false
   },
   "id": "82d4646f9730f768"
  },
  {
   "cell_type": "code",
   "outputs": [
    {
     "name": "stdout",
     "output_type": "stream",
     "text": [
      "7 (500,)\n"
     ]
    }
   ],
   "source": [
    "# Save to .npz file\n",
    "np.savez('submission.npz', rf_most_important=rf_most_important, prediction=prediction)\n",
    "\n",
    "# Load and check the contents of the saved file\n",
    "npzfile = np.load('submission.npz')\n",
    "print(npzfile['rf_most_important'], npzfile['prediction'].shape)"
   ],
   "metadata": {
    "collapsed": false,
    "ExecuteTime": {
     "end_time": "2024-04-12T07:11:39.559643Z",
     "start_time": "2024-04-12T07:11:39.551356Z"
    }
   },
   "id": "7a6301aea8e6ce00",
   "execution_count": 31
  },
  {
   "cell_type": "code",
   "outputs": [],
   "source": [],
   "metadata": {
    "collapsed": false
   },
   "id": "1447358e897f3c8a"
  }
 ],
 "metadata": {
  "kernelspec": {
   "display_name": "Python 3",
   "language": "python",
   "name": "python3"
  },
  "language_info": {
   "codemirror_mode": {
    "name": "ipython",
    "version": 2
   },
   "file_extension": ".py",
   "mimetype": "text/x-python",
   "name": "python",
   "nbconvert_exporter": "python",
   "pygments_lexer": "ipython2",
   "version": "2.7.6"
  }
 },
 "nbformat": 4,
 "nbformat_minor": 5
}
