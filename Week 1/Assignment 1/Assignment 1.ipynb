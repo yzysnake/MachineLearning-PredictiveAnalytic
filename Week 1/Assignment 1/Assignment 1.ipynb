{
 "cells": [
  {
   "cell_type": "code",
   "execution_count": 25,
   "id": "b95d407ecd40a091",
   "metadata": {
    "ExecuteTime": {
     "end_time": "2024-03-25T05:57:04.582617Z",
     "start_time": "2024-03-25T05:57:04.568100Z"
    },
    "collapsed": false,
    "jupyter": {
     "outputs_hidden": false
    }
   },
   "outputs": [],
   "source": [
    "import pandas as pd\n",
    "import numpy as np\n",
    "import statsmodels.api as sm\n",
    "from sklearn.decomposition import PCA"
   ]
  },
  {
   "cell_type": "markdown",
   "id": "44288111daa1ef64",
   "metadata": {
    "collapsed": false,
    "jupyter": {
     "outputs_hidden": false
    }
   },
   "source": [
    "## Read data"
   ]
  },
  {
   "cell_type": "code",
   "execution_count": 2,
   "id": "d0a9cdf7120227d6",
   "metadata": {
    "ExecuteTime": {
     "end_time": "2024-03-25T04:38:14.361102Z",
     "start_time": "2024-03-25T04:38:14.299948Z"
    },
    "collapsed": false,
    "jupyter": {
     "outputs_hidden": false
    }
   },
   "outputs": [],
   "source": [
    "data = pd.read_csv(\"test_sample.csv\")"
   ]
  },
  {
   "cell_type": "code",
   "execution_count": 4,
   "id": "c94bed1a1d50547d",
   "metadata": {
    "ExecuteTime": {
     "end_time": "2024-03-25T04:40:29.685749Z",
     "start_time": "2024-03-25T04:40:29.669745Z"
    },
    "collapsed": false,
    "jupyter": {
     "outputs_hidden": false
    }
   },
   "outputs": [
    {
     "data": {
      "text/plain": [
       "(500, 492)"
      ]
     },
     "execution_count": 4,
     "metadata": {},
     "output_type": "execute_result"
    }
   ],
   "source": [
    "data.shape"
   ]
  },
  {
   "cell_type": "code",
   "execution_count": 5,
   "id": "a01f2acb59f943c4",
   "metadata": {
    "ExecuteTime": {
     "end_time": "2024-03-25T04:40:35.998739Z",
     "start_time": "2024-03-25T04:40:35.978731Z"
    },
    "collapsed": false,
    "jupyter": {
     "outputs_hidden": false
    }
   },
   "outputs": [
    {
     "data": {
      "text/html": [
       "<div>\n",
       "<style scoped>\n",
       "    .dataframe tbody tr th:only-of-type {\n",
       "        vertical-align: middle;\n",
       "    }\n",
       "\n",
       "    .dataframe tbody tr th {\n",
       "        vertical-align: top;\n",
       "    }\n",
       "\n",
       "    .dataframe thead th {\n",
       "        text-align: right;\n",
       "    }\n",
       "</style>\n",
       "<table border=\"1\" class=\"dataframe\">\n",
       "  <thead>\n",
       "    <tr style=\"text-align: right;\">\n",
       "      <th></th>\n",
       "      <th>Y</th>\n",
       "      <th>X1</th>\n",
       "      <th>X2</th>\n",
       "      <th>X3</th>\n",
       "      <th>X4</th>\n",
       "      <th>X5</th>\n",
       "      <th>X6</th>\n",
       "      <th>X7</th>\n",
       "      <th>X8</th>\n",
       "      <th>X9</th>\n",
       "      <th>...</th>\n",
       "      <th>X482</th>\n",
       "      <th>X483</th>\n",
       "      <th>X484</th>\n",
       "      <th>X485</th>\n",
       "      <th>X486</th>\n",
       "      <th>X487</th>\n",
       "      <th>X488</th>\n",
       "      <th>X489</th>\n",
       "      <th>X490</th>\n",
       "      <th>X491</th>\n",
       "    </tr>\n",
       "  </thead>\n",
       "  <tbody>\n",
       "    <tr>\n",
       "      <th>0</th>\n",
       "      <td>79.876423</td>\n",
       "      <td>-1.245862</td>\n",
       "      <td>-2.640738</td>\n",
       "      <td>-4.445075</td>\n",
       "      <td>-2.596791</td>\n",
       "      <td>0.192209</td>\n",
       "      <td>0.439903</td>\n",
       "      <td>1.009914</td>\n",
       "      <td>3.101967</td>\n",
       "      <td>-2.894164</td>\n",
       "      <td>...</td>\n",
       "      <td>-0.249641</td>\n",
       "      <td>4.421276</td>\n",
       "      <td>-0.096290</td>\n",
       "      <td>3.838207</td>\n",
       "      <td>-0.255293</td>\n",
       "      <td>-0.457279</td>\n",
       "      <td>0.126403</td>\n",
       "      <td>-2.279429</td>\n",
       "      <td>2.079863</td>\n",
       "      <td>-1.048308</td>\n",
       "    </tr>\n",
       "    <tr>\n",
       "      <th>1</th>\n",
       "      <td>147.601608</td>\n",
       "      <td>2.155426</td>\n",
       "      <td>-1.653922</td>\n",
       "      <td>1.210217</td>\n",
       "      <td>0.811996</td>\n",
       "      <td>1.146012</td>\n",
       "      <td>0.920832</td>\n",
       "      <td>-0.440953</td>\n",
       "      <td>-2.873925</td>\n",
       "      <td>-2.335624</td>\n",
       "      <td>...</td>\n",
       "      <td>0.008773</td>\n",
       "      <td>-3.792059</td>\n",
       "      <td>-0.466665</td>\n",
       "      <td>0.830561</td>\n",
       "      <td>-4.391146</td>\n",
       "      <td>1.774208</td>\n",
       "      <td>-2.788983</td>\n",
       "      <td>0.591398</td>\n",
       "      <td>-1.577763</td>\n",
       "      <td>-1.138426</td>\n",
       "    </tr>\n",
       "    <tr>\n",
       "      <th>2</th>\n",
       "      <td>-66.974081</td>\n",
       "      <td>-0.003307</td>\n",
       "      <td>2.523621</td>\n",
       "      <td>-1.258825</td>\n",
       "      <td>1.929429</td>\n",
       "      <td>1.033411</td>\n",
       "      <td>-1.303365</td>\n",
       "      <td>-1.393066</td>\n",
       "      <td>-0.974599</td>\n",
       "      <td>3.221174</td>\n",
       "      <td>...</td>\n",
       "      <td>-1.745593</td>\n",
       "      <td>6.271241</td>\n",
       "      <td>-3.306594</td>\n",
       "      <td>-1.621729</td>\n",
       "      <td>0.057774</td>\n",
       "      <td>1.862335</td>\n",
       "      <td>4.440217</td>\n",
       "      <td>-0.967720</td>\n",
       "      <td>2.119744</td>\n",
       "      <td>-2.949879</td>\n",
       "    </tr>\n",
       "    <tr>\n",
       "      <th>3</th>\n",
       "      <td>-11.337617</td>\n",
       "      <td>-0.651550</td>\n",
       "      <td>3.670091</td>\n",
       "      <td>0.079076</td>\n",
       "      <td>4.006305</td>\n",
       "      <td>0.557802</td>\n",
       "      <td>-0.364852</td>\n",
       "      <td>-1.462042</td>\n",
       "      <td>0.251087</td>\n",
       "      <td>-0.535460</td>\n",
       "      <td>...</td>\n",
       "      <td>-3.110233</td>\n",
       "      <td>2.014395</td>\n",
       "      <td>0.672643</td>\n",
       "      <td>-0.236287</td>\n",
       "      <td>0.161460</td>\n",
       "      <td>-0.227571</td>\n",
       "      <td>-2.696188</td>\n",
       "      <td>0.575367</td>\n",
       "      <td>-0.733765</td>\n",
       "      <td>-0.024031</td>\n",
       "    </tr>\n",
       "    <tr>\n",
       "      <th>4</th>\n",
       "      <td>-33.124200</td>\n",
       "      <td>2.056242</td>\n",
       "      <td>-1.443588</td>\n",
       "      <td>-2.287429</td>\n",
       "      <td>2.743887</td>\n",
       "      <td>2.908003</td>\n",
       "      <td>-2.742532</td>\n",
       "      <td>-2.044555</td>\n",
       "      <td>0.037670</td>\n",
       "      <td>-0.834969</td>\n",
       "      <td>...</td>\n",
       "      <td>-1.422660</td>\n",
       "      <td>0.099991</td>\n",
       "      <td>2.572091</td>\n",
       "      <td>-0.940041</td>\n",
       "      <td>1.346845</td>\n",
       "      <td>0.733637</td>\n",
       "      <td>-1.150200</td>\n",
       "      <td>1.036893</td>\n",
       "      <td>3.575096</td>\n",
       "      <td>4.354865</td>\n",
       "    </tr>\n",
       "  </tbody>\n",
       "</table>\n",
       "<p>5 rows × 492 columns</p>\n",
       "</div>"
      ],
      "text/plain": [
       "            Y        X1        X2        X3        X4        X5        X6  \\\n",
       "0   79.876423 -1.245862 -2.640738 -4.445075 -2.596791  0.192209  0.439903   \n",
       "1  147.601608  2.155426 -1.653922  1.210217  0.811996  1.146012  0.920832   \n",
       "2  -66.974081 -0.003307  2.523621 -1.258825  1.929429  1.033411 -1.303365   \n",
       "3  -11.337617 -0.651550  3.670091  0.079076  4.006305  0.557802 -0.364852   \n",
       "4  -33.124200  2.056242 -1.443588 -2.287429  2.743887  2.908003 -2.742532   \n",
       "\n",
       "         X7        X8        X9  ...      X482      X483      X484      X485  \\\n",
       "0  1.009914  3.101967 -2.894164  ... -0.249641  4.421276 -0.096290  3.838207   \n",
       "1 -0.440953 -2.873925 -2.335624  ...  0.008773 -3.792059 -0.466665  0.830561   \n",
       "2 -1.393066 -0.974599  3.221174  ... -1.745593  6.271241 -3.306594 -1.621729   \n",
       "3 -1.462042  0.251087 -0.535460  ... -3.110233  2.014395  0.672643 -0.236287   \n",
       "4 -2.044555  0.037670 -0.834969  ... -1.422660  0.099991  2.572091 -0.940041   \n",
       "\n",
       "       X486      X487      X488      X489      X490      X491  \n",
       "0 -0.255293 -0.457279  0.126403 -2.279429  2.079863 -1.048308  \n",
       "1 -4.391146  1.774208 -2.788983  0.591398 -1.577763 -1.138426  \n",
       "2  0.057774  1.862335  4.440217 -0.967720  2.119744 -2.949879  \n",
       "3  0.161460 -0.227571 -2.696188  0.575367 -0.733765 -0.024031  \n",
       "4  1.346845  0.733637 -1.150200  1.036893  3.575096  4.354865  \n",
       "\n",
       "[5 rows x 492 columns]"
      ]
     },
     "execution_count": 5,
     "metadata": {},
     "output_type": "execute_result"
    }
   ],
   "source": [
    "data.head()"
   ]
  },
  {
   "cell_type": "markdown",
   "id": "e7df9457e71eb0d9",
   "metadata": {
    "collapsed": false,
    "jupyter": {
     "outputs_hidden": false
    }
   },
   "source": [
    "## Step 1"
   ]
  },
  {
   "cell_type": "code",
   "execution_count": 7,
   "id": "1b70a007106a040d",
   "metadata": {
    "ExecuteTime": {
     "end_time": "2024-03-25T04:53:24.884081Z",
     "start_time": "2024-03-25T04:53:24.878079Z"
    },
    "collapsed": false,
    "jupyter": {
     "outputs_hidden": false
    }
   },
   "outputs": [],
   "source": [
    "Y = data['Y']  \n",
    "X = data.drop(['Y'], axis=1)  "
   ]
  },
  {
   "cell_type": "code",
   "execution_count": 8,
   "id": "eceb74fa3e856b58",
   "metadata": {
    "ExecuteTime": {
     "end_time": "2024-03-25T04:53:35.562289Z",
     "start_time": "2024-03-25T04:53:25.567468Z"
    },
    "collapsed": false,
    "jupyter": {
     "outputs_hidden": false
    }
   },
   "outputs": [],
   "source": [
    "n_orig = None  \n",
    "\n",
    "for j in range(2, 492):  # Starting with 2 regressors up to 491\n",
    "   \n",
    "    X_j = X.iloc[:, :j]\n",
    "    \n",
    "    # Add a constant to the model for the intercept\n",
    "    X_j = sm.add_constant(X_j)\n",
    "    \n",
    "    # Fit the linear regression model\n",
    "    model = sm.OLS(Y, X_j).fit()\n",
    "    \n",
    "    # Check if the determination coefficient (R-squared) is greater than 0.9\n",
    "    if model.rsquared > 0.9:\n",
    "        n_orig = j\n",
    "        break  "
   ]
  },
  {
   "cell_type": "code",
   "execution_count": 9,
   "id": "2c961f90dc603aaf",
   "metadata": {
    "ExecuteTime": {
     "end_time": "2024-03-25T04:53:39.569420Z",
     "start_time": "2024-03-25T04:53:39.563420Z"
    },
    "collapsed": false,
    "jupyter": {
     "outputs_hidden": false
    }
   },
   "outputs": [
    {
     "name": "stdout",
     "output_type": "stream",
     "text": [
      "Smallest number of regressors with R^2 > 0.9: 343\n"
     ]
    }
   ],
   "source": [
    "print(f\"Smallest number of regressors with R^2 > 0.9: {n_orig}\")"
   ]
  },
  {
   "cell_type": "markdown",
   "id": "4fb72d0cd093153f",
   "metadata": {
    "collapsed": false,
    "jupyter": {
     "outputs_hidden": false
    }
   },
   "source": [
    "## Step 2"
   ]
  },
  {
   "cell_type": "code",
   "execution_count": null,
   "id": "42cb2d95361a11e6",
   "metadata": {
    "collapsed": false,
    "jupyter": {
     "outputs_hidden": false
    }
   },
   "outputs": [],
   "source": [
    "def rel_imp_me(X, y): \n",
    "    names = X.columns\n",
    "    ser = pd.Series(index=names)\n",
    "    lm0 = sm.OLS(y, sm.add_constant(X)).fit()\n",
    "    for c in names:\n",
    "        lm = sm.OLS(y, sm.add_constant(X[names.drop(c)])).fit()\n",
    "        ser[c] = lm0.rsquared - lm.rsquared \n",
    "    res = pd.DataFrame(columns=['last', 'first', 'betasq', 'pratt'], index=names)\n",
    "    res['last'] = ser\n",
    "    corr = X.apply(lambda x: np.corrcoef(y, x)[0, 1], axis=0)\n",
    "    res['first'] = corr**2\n",
    "    sx = X.apply(np.std, axis=0)\n",
    "    res['betasq'] = (lm0.params[names] * sx / np.std(y))**2\n",
    "    res['pratt'] = (lm0.params[names] * sx / np.std(y)) * corr\n",
    "    return res"
   ]
  },
  {
   "cell_type": "code",
   "execution_count": 22,
   "id": "9529d86badd3365b",
   "metadata": {
    "ExecuteTime": {
     "end_time": "2024-03-25T05:52:35.139982Z",
     "start_time": "2024-03-25T05:51:20.419817Z"
    },
    "collapsed": false,
    "jupyter": {
     "outputs_hidden": false
    }
   },
   "outputs": [],
   "source": [
    "# Perform PCA on the predictors\n",
    "pca = PCA().fit(X)\n",
    "X_pca = pca.transform(X)\n",
    "\n",
    "# Convert the PCA components to a DataFrame for feature importance calculation\n",
    "X_pca_df = pd.DataFrame(X_pca, columns=[f'PC{i+1}' for i in range(X_pca.shape[1])])\n",
    "\n",
    "# Calculate the relative importance metrics for PCA components\n",
    "metrics_pca = rel_imp_me(X_pca_df, Y)\n",
    "\n",
    "# Reorder PCA components based on the 'first' importance measure\n",
    "ordered_pca_components = metrics_pca.sort_values(by='first', ascending=False).index\n",
    "\n",
    "# Initialize variables\n",
    "n_PCA = None\n",
    "determination_coefficient = None"
   ]
  },
  {
   "cell_type": "code",
   "execution_count": 23,
   "id": "f16921905bde4a11",
   "metadata": {
    "ExecuteTime": {
     "end_time": "2024-03-25T05:52:51.732336Z",
     "start_time": "2024-03-25T05:52:49.905703Z"
    },
    "collapsed": false,
    "jupyter": {
     "outputs_hidden": false
    }
   },
   "outputs": [
    {
     "name": "stdout",
     "output_type": "stream",
     "text": [
      "Model Dimensionality Reduction: 197\n",
      "Determination Coefficient (with 146 ordered PCA components): 0.90050\n"
     ]
    }
   ],
   "source": [
    "# Fit regression models with an increasing number of ordered PCA components\n",
    "for i in range(1, len(ordered_pca_components) + 1):\n",
    "    # Select the ordered PCA components\n",
    "    X_ordered_pca_i = X_pca_df[ordered_pca_components[:i]]\n",
    "    \n",
    "    # Add a constant to the model for the intercept\n",
    "    X_ordered_pca_i_with_const = sm.add_constant(X_ordered_pca_i)\n",
    "    \n",
    "    # Fit the linear regression model using OLS\n",
    "    model = sm.OLS(Y, X_ordered_pca_i_with_const).fit()\n",
    "    \n",
    "    # Check if the R-squared value is greater than 0.9\n",
    "    if model.rsquared > 0.9:\n",
    "        n_PCA = i\n",
    "        determination_coefficient = model.rsquared\n",
    "        break  # Stop if we meet the R-squared threshold\n",
    "\n",
    "if n_PCA is not None:\n",
    "    model_dimensionality_reduction = n_orig - n_PCA\n",
    "    print(f\"Model Dimensionality Reduction: {model_dimensionality_reduction}\")\n",
    "    print(f\"Determination Coefficient (with {n_PCA} ordered PCA components): {determination_coefficient:.5f}\")\n",
    "else:\n",
    "    print(\"No sufficient PCA components found to achieve R-squared > 0.9\")"
   ]
  },
  {
   "cell_type": "code",
   "execution_count": 24,
   "id": "44e0993c94536704",
   "metadata": {
    "ExecuteTime": {
     "end_time": "2024-03-25T05:53:19.276442Z",
     "start_time": "2024-03-25T05:53:19.269436Z"
    },
    "collapsed": false,
    "jupyter": {
     "outputs_hidden": false
    }
   },
   "outputs": [
    {
     "data": {
      "text/plain": [
       "0.9005026035563104"
      ]
     },
     "execution_count": 24,
     "metadata": {},
     "output_type": "execute_result"
    }
   ],
   "source": [
    "determination_coefficient"
   ]
  },
  {
   "cell_type": "code",
   "execution_count": null,
   "id": "832c0206e1354d3d",
   "metadata": {
    "collapsed": false,
    "jupyter": {
     "outputs_hidden": false
    }
   },
   "outputs": [],
   "source": []
  }
 ],
 "metadata": {
  "kernelspec": {
   "display_name": "Python 3 (ipykernel)",
   "language": "python",
   "name": "python3"
  },
  "language_info": {
   "codemirror_mode": {
    "name": "ipython",
    "version": 3
   },
   "file_extension": ".py",
   "mimetype": "text/x-python",
   "name": "python",
   "nbconvert_exporter": "python",
   "pygments_lexer": "ipython3",
   "version": "3.8.18"
  }
 },
 "nbformat": 4,
 "nbformat_minor": 5
}
