{
 "cells": [
  {
   "cell_type": "code",
   "execution_count": 8,
   "id": "initial_id",
   "metadata": {
    "collapsed": true,
    "ExecuteTime": {
     "end_time": "2024-03-30T00:45:03.151728Z",
     "start_time": "2024-03-30T00:45:03.143729Z"
    }
   },
   "outputs": [],
   "source": [
    "import pandas as pd\n",
    "import numpy as np\n",
    "from sklearn.linear_model import LassoCV\n",
    "from statsmodels.api import OLS\n",
    "import statsmodels.api as sm"
   ]
  },
  {
   "cell_type": "markdown",
   "source": [
    "## Read data"
   ],
   "metadata": {
    "collapsed": false
   },
   "id": "3f29c584b627fd8f"
  },
  {
   "cell_type": "code",
   "outputs": [],
   "source": [
    "data = pd.read_csv(\"test_sample.csv\")"
   ],
   "metadata": {
    "collapsed": false,
    "ExecuteTime": {
     "end_time": "2024-03-30T00:07:15.632844Z",
     "start_time": "2024-03-30T00:07:15.594846Z"
    }
   },
   "id": "b6860e7a6ea745a3",
   "execution_count": 3
  },
  {
   "cell_type": "code",
   "outputs": [
    {
     "data": {
      "text/plain": "(500, 491)"
     },
     "execution_count": 4,
     "metadata": {},
     "output_type": "execute_result"
    }
   ],
   "source": [
    "data.shape"
   ],
   "metadata": {
    "collapsed": false,
    "ExecuteTime": {
     "end_time": "2024-03-30T00:07:16.215391Z",
     "start_time": "2024-03-30T00:07:16.196394Z"
    }
   },
   "id": "ba782b5c5eb6d2fe",
   "execution_count": 4
  },
  {
   "cell_type": "code",
   "outputs": [
    {
     "data": {
      "text/plain": "           Y        X0        X1        X2        X3        X4        X5  \\\n0  62.021357  2.024706  1.027527 -1.326311  0.357027  0.519190 -0.257261   \n1 -10.742381 -0.150313  1.222022 -0.660130  0.533368 -0.715817  1.009842   \n2  36.153706 -0.108264 -0.561548  1.160181 -2.053494 -1.872296  0.343377   \n3 -51.982139 -0.782493 -3.915502  3.091624 -1.402967 -1.692088  0.052822   \n4 -61.727506 -2.117168 -0.444977 -2.608002 -1.795239  1.603949  1.998514   \n\n         X6        X7        X8  ...      X480      X481      X482      X483  \\\n0  1.039989 -0.347428 -1.064346  ... -1.651280  4.136547 -1.865089 -0.722469   \n1 -4.690636 -2.756601  2.385810  ...  0.116710 -0.908185  0.233237  1.986009   \n2 -0.245129 -0.667422  2.253708  ...  0.477435  0.881063 -0.203446 -0.416133   \n3 -0.650964 -4.290895 -0.174200  ...  0.042234 -3.874029 -2.378197 -3.307136   \n4  1.408727  1.348166  2.688537  ... -2.468690  0.889213 -0.801028 -3.576590   \n\n       X484      X485      X486      X487      X488      X489  \n0 -0.606663 -1.036133 -1.651849 -1.709447  2.932770 -2.650658  \n1 -0.015612 -0.022982 -0.655791 -0.132789 -1.472721  1.851572  \n2 -1.263920  3.109615  1.399428 -1.860654 -1.038935 -0.463618  \n3 -3.061432 -2.071915 -1.672129  2.340858 -1.739158 -0.605747  \n4  1.338792 -1.069161 -0.355335  3.117281 -1.237800 -4.093385  \n\n[5 rows x 491 columns]",
      "text/html": "<div>\n<style scoped>\n    .dataframe tbody tr th:only-of-type {\n        vertical-align: middle;\n    }\n\n    .dataframe tbody tr th {\n        vertical-align: top;\n    }\n\n    .dataframe thead th {\n        text-align: right;\n    }\n</style>\n<table border=\"1\" class=\"dataframe\">\n  <thead>\n    <tr style=\"text-align: right;\">\n      <th></th>\n      <th>Y</th>\n      <th>X0</th>\n      <th>X1</th>\n      <th>X2</th>\n      <th>X3</th>\n      <th>X4</th>\n      <th>X5</th>\n      <th>X6</th>\n      <th>X7</th>\n      <th>X8</th>\n      <th>...</th>\n      <th>X480</th>\n      <th>X481</th>\n      <th>X482</th>\n      <th>X483</th>\n      <th>X484</th>\n      <th>X485</th>\n      <th>X486</th>\n      <th>X487</th>\n      <th>X488</th>\n      <th>X489</th>\n    </tr>\n  </thead>\n  <tbody>\n    <tr>\n      <th>0</th>\n      <td>62.021357</td>\n      <td>2.024706</td>\n      <td>1.027527</td>\n      <td>-1.326311</td>\n      <td>0.357027</td>\n      <td>0.519190</td>\n      <td>-0.257261</td>\n      <td>1.039989</td>\n      <td>-0.347428</td>\n      <td>-1.064346</td>\n      <td>...</td>\n      <td>-1.651280</td>\n      <td>4.136547</td>\n      <td>-1.865089</td>\n      <td>-0.722469</td>\n      <td>-0.606663</td>\n      <td>-1.036133</td>\n      <td>-1.651849</td>\n      <td>-1.709447</td>\n      <td>2.932770</td>\n      <td>-2.650658</td>\n    </tr>\n    <tr>\n      <th>1</th>\n      <td>-10.742381</td>\n      <td>-0.150313</td>\n      <td>1.222022</td>\n      <td>-0.660130</td>\n      <td>0.533368</td>\n      <td>-0.715817</td>\n      <td>1.009842</td>\n      <td>-4.690636</td>\n      <td>-2.756601</td>\n      <td>2.385810</td>\n      <td>...</td>\n      <td>0.116710</td>\n      <td>-0.908185</td>\n      <td>0.233237</td>\n      <td>1.986009</td>\n      <td>-0.015612</td>\n      <td>-0.022982</td>\n      <td>-0.655791</td>\n      <td>-0.132789</td>\n      <td>-1.472721</td>\n      <td>1.851572</td>\n    </tr>\n    <tr>\n      <th>2</th>\n      <td>36.153706</td>\n      <td>-0.108264</td>\n      <td>-0.561548</td>\n      <td>1.160181</td>\n      <td>-2.053494</td>\n      <td>-1.872296</td>\n      <td>0.343377</td>\n      <td>-0.245129</td>\n      <td>-0.667422</td>\n      <td>2.253708</td>\n      <td>...</td>\n      <td>0.477435</td>\n      <td>0.881063</td>\n      <td>-0.203446</td>\n      <td>-0.416133</td>\n      <td>-1.263920</td>\n      <td>3.109615</td>\n      <td>1.399428</td>\n      <td>-1.860654</td>\n      <td>-1.038935</td>\n      <td>-0.463618</td>\n    </tr>\n    <tr>\n      <th>3</th>\n      <td>-51.982139</td>\n      <td>-0.782493</td>\n      <td>-3.915502</td>\n      <td>3.091624</td>\n      <td>-1.402967</td>\n      <td>-1.692088</td>\n      <td>0.052822</td>\n      <td>-0.650964</td>\n      <td>-4.290895</td>\n      <td>-0.174200</td>\n      <td>...</td>\n      <td>0.042234</td>\n      <td>-3.874029</td>\n      <td>-2.378197</td>\n      <td>-3.307136</td>\n      <td>-3.061432</td>\n      <td>-2.071915</td>\n      <td>-1.672129</td>\n      <td>2.340858</td>\n      <td>-1.739158</td>\n      <td>-0.605747</td>\n    </tr>\n    <tr>\n      <th>4</th>\n      <td>-61.727506</td>\n      <td>-2.117168</td>\n      <td>-0.444977</td>\n      <td>-2.608002</td>\n      <td>-1.795239</td>\n      <td>1.603949</td>\n      <td>1.998514</td>\n      <td>1.408727</td>\n      <td>1.348166</td>\n      <td>2.688537</td>\n      <td>...</td>\n      <td>-2.468690</td>\n      <td>0.889213</td>\n      <td>-0.801028</td>\n      <td>-3.576590</td>\n      <td>1.338792</td>\n      <td>-1.069161</td>\n      <td>-0.355335</td>\n      <td>3.117281</td>\n      <td>-1.237800</td>\n      <td>-4.093385</td>\n    </tr>\n  </tbody>\n</table>\n<p>5 rows × 491 columns</p>\n</div>"
     },
     "execution_count": 5,
     "metadata": {},
     "output_type": "execute_result"
    }
   ],
   "source": [
    "data.head()"
   ],
   "metadata": {
    "collapsed": false,
    "ExecuteTime": {
     "end_time": "2024-03-30T00:07:16.450830Z",
     "start_time": "2024-03-30T00:07:16.429296Z"
    }
   },
   "id": "4504bf3d852c039d",
   "execution_count": 5
  },
  {
   "cell_type": "code",
   "outputs": [],
   "source": [
    "# Prepare the data\n",
    "X = data.drop('Y', axis=1)  # independent variables\n",
    "y = data['Y']  # dependent variable"
   ],
   "metadata": {
    "collapsed": false,
    "ExecuteTime": {
     "end_time": "2024-03-30T00:43:31.634036Z",
     "start_time": "2024-03-30T00:43:31.628759Z"
    }
   },
   "id": "cb339b2cabc9b4ee",
   "execution_count": 6
  },
  {
   "cell_type": "markdown",
   "source": [
    "## Lasso Regression"
   ],
   "metadata": {
    "collapsed": false
   },
   "id": "7676bfd2a9ffef93"
  },
  {
   "cell_type": "code",
   "outputs": [],
   "source": [
    "lasso = LassoCV(cv=5, random_state=1, n_jobs=-1).fit(X, y)\n",
    "optimal_alpha = lasso.alpha_\n",
    "lasso_coef = lasso.coef_"
   ],
   "metadata": {
    "collapsed": false,
    "ExecuteTime": {
     "end_time": "2024-03-30T00:45:05.755013Z",
     "start_time": "2024-03-30T00:45:04.658031Z"
    }
   },
   "id": "5346eda9dda5ef62",
   "execution_count": 9
  },
  {
   "cell_type": "code",
   "outputs": [],
   "source": [
    "# Indices of eliminated regressors by Lasso (coefficients that are zero)\n",
    "eliminated_by_Lasso = [i for i, coef in enumerate(lasso_coef) if coef == 0]"
   ],
   "metadata": {
    "collapsed": false,
    "ExecuteTime": {
     "end_time": "2024-03-30T00:45:47.184391Z",
     "start_time": "2024-03-30T00:45:47.180390Z"
    }
   },
   "id": "83c59b9c43f4ce41",
   "execution_count": 12
  },
  {
   "cell_type": "code",
   "outputs": [],
   "source": [
    "# Linear regression using Ordinary Least Squares (OLS)\n",
    "model = OLS(y, sm.add_constant(X)).fit()"
   ],
   "metadata": {
    "collapsed": false,
    "ExecuteTime": {
     "end_time": "2024-03-30T00:46:14.637742Z",
     "start_time": "2024-03-30T00:46:14.437615Z"
    }
   },
   "id": "4bf1b7c2729f488b",
   "execution_count": 13
  },
  {
   "cell_type": "code",
   "outputs": [],
   "source": [
    "# Get p-values and eliminate coefficients with p-value greater than 0.1\n",
    "p_values = model.pvalues[1:] \n",
    "eliminated_by_lm = [i for i, p_value in enumerate(p_values) if p_value > 0.1]"
   ],
   "metadata": {
    "collapsed": false,
    "ExecuteTime": {
     "end_time": "2024-03-30T00:46:17.576886Z",
     "start_time": "2024-03-30T00:46:17.569879Z"
    }
   },
   "id": "47c173306b51a6ef",
   "execution_count": 14
  },
  {
   "cell_type": "code",
   "outputs": [
    {
     "data": {
      "text/plain": "const    False\nX0       False\nX1       False\nX2        True\nX3       False\n         ...  \nX485     False\nX486     False\nX487     False\nX488     False\nX489     False\nLength: 491, dtype: bool"
     },
     "execution_count": 26,
     "metadata": {},
     "output_type": "execute_result"
    }
   ],
   "source": [
    "model.pvalues > 0.1"
   ],
   "metadata": {
    "collapsed": false,
    "ExecuteTime": {
     "end_time": "2024-03-30T01:30:02.573944Z",
     "start_time": "2024-03-30T01:30:02.565938Z"
    }
   },
   "id": "c7188e7227ff92ff",
   "execution_count": 26
  },
  {
   "cell_type": "code",
   "outputs": [
    {
     "data": {
      "text/plain": "X0      2.113700e-14\nX1      1.430216e-06\nX2      3.128378e-01\nX3      8.264249e-12\nX4      1.155034e-06\n            ...     \nX485    3.137936e-09\nX486    3.252316e-16\nX487    1.423677e-06\nX488    5.818670e-13\nX489    4.691442e-08\nLength: 490, dtype: float64"
     },
     "execution_count": 20,
     "metadata": {},
     "output_type": "execute_result"
    }
   ],
   "source": [
    "p_values"
   ],
   "metadata": {
    "collapsed": false,
    "ExecuteTime": {
     "end_time": "2024-03-30T00:59:10.342627Z",
     "start_time": "2024-03-30T00:59:10.330620Z"
    }
   },
   "id": "6b1072c3ef4c3c14",
   "execution_count": 20
  },
  {
   "cell_type": "markdown",
   "source": [
    "## Drop the answer"
   ],
   "metadata": {
    "collapsed": false
   },
   "id": "3e97d2bb701a89bc"
  },
  {
   "cell_type": "code",
   "outputs": [],
   "source": [
    "# Prepare strings with blank spaces as separators\n",
    "lasso_zeros = ' '.join([str(idx) for idx in eliminated_by_Lasso])\n",
    "lm_zeros = ' '.join([str(idx) for idx in eliminated_by_lm])"
   ],
   "metadata": {
    "collapsed": false,
    "ExecuteTime": {
     "end_time": "2024-03-30T00:46:46.336462Z",
     "start_time": "2024-03-30T00:46:46.318454Z"
    }
   },
   "id": "7d73db0727c675ab",
   "execution_count": 15
  },
  {
   "cell_type": "code",
   "outputs": [],
   "source": [
    "pd.DataFrame([lasso_zeros,lm_zeros], index = ['eliminated_by_Lasso','eliminated_by_lm']).to_csv('answer.csv')"
   ],
   "metadata": {
    "collapsed": false,
    "ExecuteTime": {
     "end_time": "2024-03-30T01:09:04.177061Z",
     "start_time": "2024-03-30T01:09:04.163055Z"
    }
   },
   "id": "26ac02b686627b47",
   "execution_count": 25
  },
  {
   "cell_type": "code",
   "outputs": [],
   "source": [],
   "metadata": {
    "collapsed": false
   },
   "id": "9f6e3187182bf97"
  }
 ],
 "metadata": {
  "kernelspec": {
   "display_name": "Python 3",
   "language": "python",
   "name": "python3"
  },
  "language_info": {
   "codemirror_mode": {
    "name": "ipython",
    "version": 2
   },
   "file_extension": ".py",
   "mimetype": "text/x-python",
   "name": "python",
   "nbconvert_exporter": "python",
   "pygments_lexer": "ipython2",
   "version": "2.7.6"
  }
 },
 "nbformat": 4,
 "nbformat_minor": 5
}
