{
 "cells": [
  {
   "cell_type": "code",
   "outputs": [],
   "source": [
    "import numpy as np\n",
    "\n",
    "from tensorflow.keras.preprocessing.text import Tokenizer\n",
    "from tensorflow.keras.preprocessing.sequence import pad_sequences\n",
    "from tensorflow.keras.layers import Embedding, LSTM, Dense, Dropout, Bidirectional, GlobalAveragePooling1D, GlobalMaxPooling1D, concatenate, Input\n",
    "from tensorflow.keras.callbacks import EarlyStopping, ModelCheckpoint\n",
    "from tensorflow.keras.models import Model"
   ],
   "metadata": {
    "collapsed": false,
    "ExecuteTime": {
     "end_time": "2024-05-16T10:07:12.818170Z",
     "start_time": "2024-05-16T10:07:12.815123Z"
    }
   },
   "id": "5a7ed7bdd8ed99dc",
   "execution_count": 75
  },
  {
   "cell_type": "markdown",
   "source": [
    "## Read Data"
   ],
   "metadata": {
    "collapsed": false
   },
   "id": "4806900541242d55"
  },
  {
   "cell_type": "code",
   "outputs": [],
   "source": [
    "# Load the datasets\n",
    "train_sentences  = np.load('FS_train.npy', allow_pickle=True)\n",
    "train_labels  = np.load('FS_labels.npy', allow_pickle=True)\n",
    "test_sentences  = np.load('FS_test.npy', allow_pickle=True)"
   ],
   "metadata": {
    "collapsed": false,
    "ExecuteTime": {
     "end_time": "2024-05-16T10:20:58.112636Z",
     "start_time": "2024-05-16T10:20:53.036455Z"
    }
   },
   "id": "4d95c85bf06af9ed",
   "execution_count": 85
  },
  {
   "cell_type": "markdown",
   "source": [
    "## Preprocessing Data"
   ],
   "metadata": {
    "collapsed": false
   },
   "id": "b84c127a979ea7ec"
  },
  {
   "cell_type": "code",
   "outputs": [],
   "source": [
    "tokenizer = Tokenizer()\n",
    "tokenizer.fit_on_texts(train_sentences)\n",
    "word_index = tokenizer.word_index"
   ],
   "metadata": {
    "collapsed": false,
    "ExecuteTime": {
     "end_time": "2024-05-16T10:21:00.778322Z",
     "start_time": "2024-05-16T10:20:59.040559Z"
    }
   },
   "id": "fd4ba37f0bdb36f1",
   "execution_count": 86
  },
  {
   "cell_type": "code",
   "outputs": [],
   "source": [
    "# Creating the vocabulary with words appearing at least 5 times\n",
    "word_counts = tokenizer.word_counts\n",
    "vocab = {word for word, count in word_counts.items() if count >= 5}"
   ],
   "metadata": {
    "collapsed": false,
    "ExecuteTime": {
     "end_time": "2024-05-16T10:21:00.788915Z",
     "start_time": "2024-05-16T10:21:00.779392Z"
    }
   },
   "id": "41221621943bf1ee",
   "execution_count": 87
  },
  {
   "cell_type": "code",
   "outputs": [],
   "source": [
    "# Load pre-trained embeddings\n",
    "embedding_index = {}\n",
    "with open('crawl-300d-2M.vec', encoding='utf-8') as f:\n",
    "    for line in f:\n",
    "        values = line.split()\n",
    "        word = values[0]\n",
    "        coefs = np.asarray(values[1:], dtype='float32')\n",
    "        embedding_index[word] = coefs\n",
    "\n",
    "# Intersecting the vocabulary with embeddings and replacing unknown words\n",
    "vocab = vocab.intersection(set(embedding_index.keys()))\n",
    "word_index = {word: i for i, word in enumerate(vocab, 1)}\n",
    "word_index['UNKNOWN_PROXY'] = 0"
   ],
   "metadata": {
    "collapsed": false
   },
   "id": "d19924c301419e6e",
   "execution_count": 65
  },
  {
   "cell_type": "code",
   "outputs": [],
   "source": [
    "# Tokenizing and padding\n",
    "train_sequences = tokenizer.texts_to_sequences(train_sentences)\n",
    "train_padded = pad_sequences(train_sequences, maxlen=41, padding='post', truncating='post')\n",
    "\n",
    "test_sequences = tokenizer.texts_to_sequences(test_sentences)\n",
    "test_padded = pad_sequences(test_sequences, maxlen=41, padding='post', truncating='post')\n",
    "\n",
    "# Creating embedding matrix\n",
    "embedding_matrix = np.zeros((len(word_index) + 1, 300))\n",
    "for word, i in word_index.items():\n",
    "    embedding_vector = embedding_index.get(word)\n",
    "    if embedding_vector is not None:\n",
    "        embedding_matrix[i] = embedding_vector"
   ],
   "metadata": {
    "collapsed": false,
    "ExecuteTime": {
     "end_time": "2024-05-16T10:21:03.311067Z",
     "start_time": "2024-05-16T10:21:01.714948Z"
    }
   },
   "id": "643d147eee0ef3cc",
   "execution_count": 88
  },
  {
   "cell_type": "markdown",
   "source": [
    "## Create Model"
   ],
   "metadata": {
    "collapsed": false
   },
   "id": "58dfc7b1b531b295"
  },
  {
   "cell_type": "code",
   "outputs": [],
   "source": [
    "# Model definition\n",
    "input_layer = Input(shape=(41,))\n",
    "embed = Embedding(len(word_index) + 1, 300, weights=[embedding_matrix], trainable=False)(input_layer)\n",
    "bi_lstm = Bidirectional(LSTM(512, return_sequences=True))(embed)\n",
    "dropout_1 = Dropout(0)(bi_lstm)\n",
    "lstm = LSTM(256)(dropout_1)\n",
    "global_avg_pool = GlobalAveragePooling1D()(dropout_1)\n",
    "global_max_pool = GlobalMaxPooling1D()(dropout_1)\n",
    "concat = concatenate([lstm, global_avg_pool, global_max_pool])\n",
    "dense_1 = Dense(1024, activation='relu')(concat)\n",
    "dropout_2 = Dropout(0)(dense_1)\n",
    "dense_2 = Dense(512, activation='relu')(dropout_2)\n",
    "dropout_3 = Dropout(0)(dense_2)\n",
    "dense_3 = Dense(256, activation='relu')(dropout_3)\n",
    "dropout_4 = Dropout(0)(dense_3)\n",
    "dense_4 = Dense(128, activation='relu')(dropout_4)\n",
    "dropout_5 = Dropout(0)(dense_4)\n",
    "output = Dense(1, activation='sigmoid')(dropout_5)\n",
    "model = Model(inputs=input_layer, outputs=output)\n",
    "\n",
    "model.compile(optimizer='adam', loss='binary_crossentropy', metrics=['accuracy'])"
   ],
   "metadata": {
    "collapsed": false,
    "ExecuteTime": {
     "end_time": "2024-05-16T10:55:24.911981Z",
     "start_time": "2024-05-16T10:55:24.363270Z"
    }
   },
   "id": "21556624b7756f83",
   "execution_count": 120
  },
  {
   "cell_type": "markdown",
   "source": [
    "## Train Model"
   ],
   "metadata": {
    "collapsed": false
   },
   "id": "f9a750a06a87124f"
  },
  {
   "cell_type": "code",
   "outputs": [],
   "source": [
    "# Model training\n",
    "es = EarlyStopping(monitor='val_loss', mode='min', verbose=1, patience=5)\n",
    "mc = ModelCheckpoint('best_model.h5', monitor='val_accuracy', mode='max', verbose=1, save_best_only=True)\n",
    "model.fit(train_padded, train_labels, epochs=20, validation_split=0.2, callbacks=[es, mc])"
   ],
   "metadata": {
    "collapsed": false
   },
   "id": "51cbad7b3cd6b2ea",
   "execution_count": null
  },
  {
   "cell_type": "code",
   "outputs": [
    {
     "name": "stdout",
     "output_type": "stream",
     "text": [
      "625/625 [==============================] - 4s 5ms/step\n"
     ]
    }
   ],
   "source": [
    "# Load the best model and make predictions on the test set\n",
    "model.load_weights('best_model.h5')\n",
    "test_predictions = model.predict(test_padded)\n",
    "test_predictions = (test_predictions > 0.5).astype(int)"
   ],
   "metadata": {
    "collapsed": false,
    "ExecuteTime": {
     "end_time": "2024-05-16T10:59:36.887257Z",
     "start_time": "2024-05-16T10:59:32.642751Z"
    }
   },
   "id": "ddc8d675684bacf9",
   "execution_count": 122
  },
  {
   "cell_type": "markdown",
   "source": [
    "## Extract Output"
   ],
   "metadata": {
    "collapsed": false
   },
   "id": "29e907a86cf8ed9"
  },
  {
   "cell_type": "code",
   "outputs": [
    {
     "name": "stdout",
     "output_type": "stream",
     "text": [
      "Predictions saved to submission.csv.\n"
     ]
    }
   ],
   "source": [
    "# Saving predictions to CSV\n",
    "np.savetxt('submission.csv', test_predictions, fmt='%d', delimiter=',')\n",
    "\n",
    "print(\"Predictions saved to submission.csv.\")"
   ],
   "metadata": {
    "collapsed": false,
    "ExecuteTime": {
     "end_time": "2024-05-16T10:59:45.506001Z",
     "start_time": "2024-05-16T10:59:45.487476Z"
    }
   },
   "id": "94b7477fd5a96e11",
   "execution_count": 123
  }
 ],
 "metadata": {
  "kernelspec": {
   "display_name": "Python 3",
   "language": "python",
   "name": "python3"
  },
  "language_info": {
   "codemirror_mode": {
    "name": "ipython",
    "version": 2
   },
   "file_extension": ".py",
   "mimetype": "text/x-python",
   "name": "python",
   "nbconvert_exporter": "python",
   "pygments_lexer": "ipython2",
   "version": "2.7.6"
  }
 },
 "nbformat": 4,
 "nbformat_minor": 5
}
