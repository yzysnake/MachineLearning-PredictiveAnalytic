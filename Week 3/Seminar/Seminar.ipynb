{
 "cells": [
  {
   "cell_type": "code",
   "execution_count": 7,
   "id": "initial_id",
   "metadata": {
    "collapsed": true,
    "ExecuteTime": {
     "end_time": "2024-03-30T01:53:46.208384Z",
     "start_time": "2024-03-30T01:53:46.030906Z"
    }
   },
   "outputs": [],
   "source": [
    "import warnings\n",
    "warnings.filterwarnings('ignore')\n",
    "import matplotlib.pyplot as plt\n",
    "import numpy as np\n",
    "import math\n",
    "from sklearn.linear_model import Ridge, RidgeCV, Lasso, LassoCV\n",
    "from sklearn.metrics import mean_squared_error, mean_absolute_error, r2_score\n",
    "import pandas as pd\n",
    "import pickle"
   ]
  },
  {
   "cell_type": "code",
   "outputs": [
    {
     "name": "stdout",
     "output_type": "stream",
     "text": [
      "(42800, 361) (10700, 361)\n"
     ]
    }
   ],
   "source": [
    "train_slice_df = pd.read_csv(\"slice_std_train.csv\")\n",
    "test_slice_df = pd.read_csv(\"slice_std_test.csv\")\n",
    "print(train_slice_df.shape, test_slice_df.shape)"
   ],
   "metadata": {
    "collapsed": false,
    "ExecuteTime": {
     "end_time": "2024-03-30T01:43:59.018231Z",
     "start_time": "2024-03-30T01:43:57.380910Z"
    }
   },
   "id": "2d95bf7133a09c36",
   "execution_count": 3
  },
  {
   "cell_type": "code",
   "outputs": [],
   "source": [
    "# Open the pickle file in binary read mode\n",
    "with open('result.pickle', 'rb') as file:\n",
    "    old_results  = pickle.load(file)"
   ],
   "metadata": {
    "collapsed": false,
    "ExecuteTime": {
     "end_time": "2024-03-30T01:47:39.313291Z",
     "start_time": "2024-03-30T01:47:39.308785Z"
    }
   },
   "id": "b489c240bbc6ba63",
   "execution_count": 5
  },
  {
   "cell_type": "code",
   "outputs": [],
   "source": [
    "X_train = train_slice_df.drop('Y', axis=1)\n",
    "y_train = train_slice_df['Y']\n",
    "X_test = test_slice_df.drop('Y', axis=1)\n",
    "y_test = test_slice_df['Y']"
   ],
   "metadata": {
    "collapsed": false,
    "ExecuteTime": {
     "end_time": "2024-03-30T01:54:43.282984Z",
     "start_time": "2024-03-30T01:54:43.229971Z"
    }
   },
   "id": "93f77b0f50af51f1",
   "execution_count": 8
  },
  {
   "cell_type": "markdown",
   "source": [
    "## Ridge Model"
   ],
   "metadata": {
    "collapsed": false
   },
   "id": "91d1f2e485fd1d6b"
  },
  {
   "cell_type": "code",
   "outputs": [],
   "source": [
    "# 1. Fit ridge regression to the train data for a range of lambda values\n",
    "lambd_values_ridge = np.logspace(1, 8, 100)"
   ],
   "metadata": {
    "collapsed": false,
    "ExecuteTime": {
     "end_time": "2024-03-30T01:54:52.033034Z",
     "start_time": "2024-03-30T01:54:44.165808Z"
    }
   },
   "id": "79e2dde34af29b3f",
   "execution_count": 9
  },
  {
   "cell_type": "code",
   "outputs": [
    {
     "data": {
      "text/plain": "RidgeCV(alphas=array([1.00000000e+01, 1.17681195e+01, 1.38488637e+01, 1.62975083e+01,\n       1.91791026e+01, 2.25701972e+01, 2.65608778e+01, 3.12571585e+01,\n       3.67837977e+01, 4.32876128e+01, 5.09413801e+01, 5.99484250e+01,\n       7.05480231e+01, 8.30217568e+01, 9.77009957e+01, 1.14975700e+02,\n       1.35304777e+02, 1.59228279e+02, 1.87381742e+02, 2.20513074e+02,\n       2.59502421e+02, 3.05385551e+0...\n       2.36448941e+06, 2.78255940e+06, 3.27454916e+06, 3.85352859e+06,\n       4.53487851e+06, 5.33669923e+06, 6.28029144e+06, 7.39072203e+06,\n       8.69749003e+06, 1.02353102e+07, 1.20450354e+07, 1.41747416e+07,\n       1.66810054e+07, 1.96304065e+07, 2.31012970e+07, 2.71858824e+07,\n       3.19926714e+07, 3.76493581e+07, 4.43062146e+07, 5.21400829e+07,\n       6.13590727e+07, 7.22080902e+07, 8.49753436e+07, 1.00000000e+08]),\n        store_cv_values=True)",
      "text/html": "<style>#sk-container-id-1 {color: black;}#sk-container-id-1 pre{padding: 0;}#sk-container-id-1 div.sk-toggleable {background-color: white;}#sk-container-id-1 label.sk-toggleable__label {cursor: pointer;display: block;width: 100%;margin-bottom: 0;padding: 0.3em;box-sizing: border-box;text-align: center;}#sk-container-id-1 label.sk-toggleable__label-arrow:before {content: \"▸\";float: left;margin-right: 0.25em;color: #696969;}#sk-container-id-1 label.sk-toggleable__label-arrow:hover:before {color: black;}#sk-container-id-1 div.sk-estimator:hover label.sk-toggleable__label-arrow:before {color: black;}#sk-container-id-1 div.sk-toggleable__content {max-height: 0;max-width: 0;overflow: hidden;text-align: left;background-color: #f0f8ff;}#sk-container-id-1 div.sk-toggleable__content pre {margin: 0.2em;color: black;border-radius: 0.25em;background-color: #f0f8ff;}#sk-container-id-1 input.sk-toggleable__control:checked~div.sk-toggleable__content {max-height: 200px;max-width: 100%;overflow: auto;}#sk-container-id-1 input.sk-toggleable__control:checked~label.sk-toggleable__label-arrow:before {content: \"▾\";}#sk-container-id-1 div.sk-estimator input.sk-toggleable__control:checked~label.sk-toggleable__label {background-color: #d4ebff;}#sk-container-id-1 div.sk-label input.sk-toggleable__control:checked~label.sk-toggleable__label {background-color: #d4ebff;}#sk-container-id-1 input.sk-hidden--visually {border: 0;clip: rect(1px 1px 1px 1px);clip: rect(1px, 1px, 1px, 1px);height: 1px;margin: -1px;overflow: hidden;padding: 0;position: absolute;width: 1px;}#sk-container-id-1 div.sk-estimator {font-family: monospace;background-color: #f0f8ff;border: 1px dotted black;border-radius: 0.25em;box-sizing: border-box;margin-bottom: 0.5em;}#sk-container-id-1 div.sk-estimator:hover {background-color: #d4ebff;}#sk-container-id-1 div.sk-parallel-item::after {content: \"\";width: 100%;border-bottom: 1px solid gray;flex-grow: 1;}#sk-container-id-1 div.sk-label:hover label.sk-toggleable__label {background-color: #d4ebff;}#sk-container-id-1 div.sk-serial::before {content: \"\";position: absolute;border-left: 1px solid gray;box-sizing: border-box;top: 0;bottom: 0;left: 50%;z-index: 0;}#sk-container-id-1 div.sk-serial {display: flex;flex-direction: column;align-items: center;background-color: white;padding-right: 0.2em;padding-left: 0.2em;position: relative;}#sk-container-id-1 div.sk-item {position: relative;z-index: 1;}#sk-container-id-1 div.sk-parallel {display: flex;align-items: stretch;justify-content: center;background-color: white;position: relative;}#sk-container-id-1 div.sk-item::before, #sk-container-id-1 div.sk-parallel-item::before {content: \"\";position: absolute;border-left: 1px solid gray;box-sizing: border-box;top: 0;bottom: 0;left: 50%;z-index: -1;}#sk-container-id-1 div.sk-parallel-item {display: flex;flex-direction: column;z-index: 1;position: relative;background-color: white;}#sk-container-id-1 div.sk-parallel-item:first-child::after {align-self: flex-end;width: 50%;}#sk-container-id-1 div.sk-parallel-item:last-child::after {align-self: flex-start;width: 50%;}#sk-container-id-1 div.sk-parallel-item:only-child::after {width: 0;}#sk-container-id-1 div.sk-dashed-wrapped {border: 1px dashed gray;margin: 0 0.4em 0.5em 0.4em;box-sizing: border-box;padding-bottom: 0.4em;background-color: white;}#sk-container-id-1 div.sk-label label {font-family: monospace;font-weight: bold;display: inline-block;line-height: 1.2em;}#sk-container-id-1 div.sk-label-container {text-align: center;}#sk-container-id-1 div.sk-container {/* jupyter's `normalize.less` sets `[hidden] { display: none; }` but bootstrap.min.css set `[hidden] { display: none !important; }` so we also need the `!important` here to be able to override the default hidden behavior on the sphinx rendered scikit-learn.org. See: https://github.com/scikit-learn/scikit-learn/issues/21755 */display: inline-block !important;position: relative;}#sk-container-id-1 div.sk-text-repr-fallback {display: none;}</style><div id=\"sk-container-id-1\" class=\"sk-top-container\"><div class=\"sk-text-repr-fallback\"><pre>RidgeCV(alphas=array([1.00000000e+01, 1.17681195e+01, 1.38488637e+01, 1.62975083e+01,\n       1.91791026e+01, 2.25701972e+01, 2.65608778e+01, 3.12571585e+01,\n       3.67837977e+01, 4.32876128e+01, 5.09413801e+01, 5.99484250e+01,\n       7.05480231e+01, 8.30217568e+01, 9.77009957e+01, 1.14975700e+02,\n       1.35304777e+02, 1.59228279e+02, 1.87381742e+02, 2.20513074e+02,\n       2.59502421e+02, 3.05385551e+0...\n       2.36448941e+06, 2.78255940e+06, 3.27454916e+06, 3.85352859e+06,\n       4.53487851e+06, 5.33669923e+06, 6.28029144e+06, 7.39072203e+06,\n       8.69749003e+06, 1.02353102e+07, 1.20450354e+07, 1.41747416e+07,\n       1.66810054e+07, 1.96304065e+07, 2.31012970e+07, 2.71858824e+07,\n       3.19926714e+07, 3.76493581e+07, 4.43062146e+07, 5.21400829e+07,\n       6.13590727e+07, 7.22080902e+07, 8.49753436e+07, 1.00000000e+08]),\n        store_cv_values=True)</pre><b>In a Jupyter environment, please rerun this cell to show the HTML representation or trust the notebook. <br />On GitHub, the HTML representation is unable to render, please try loading this page with nbviewer.org.</b></div><div class=\"sk-container\" hidden><div class=\"sk-item\"><div class=\"sk-estimator sk-toggleable\"><input class=\"sk-toggleable__control sk-hidden--visually\" id=\"sk-estimator-id-1\" type=\"checkbox\" checked><label for=\"sk-estimator-id-1\" class=\"sk-toggleable__label sk-toggleable__label-arrow\">RidgeCV</label><div class=\"sk-toggleable__content\"><pre>RidgeCV(alphas=array([1.00000000e+01, 1.17681195e+01, 1.38488637e+01, 1.62975083e+01,\n       1.91791026e+01, 2.25701972e+01, 2.65608778e+01, 3.12571585e+01,\n       3.67837977e+01, 4.32876128e+01, 5.09413801e+01, 5.99484250e+01,\n       7.05480231e+01, 8.30217568e+01, 9.77009957e+01, 1.14975700e+02,\n       1.35304777e+02, 1.59228279e+02, 1.87381742e+02, 2.20513074e+02,\n       2.59502421e+02, 3.05385551e+0...\n       2.36448941e+06, 2.78255940e+06, 3.27454916e+06, 3.85352859e+06,\n       4.53487851e+06, 5.33669923e+06, 6.28029144e+06, 7.39072203e+06,\n       8.69749003e+06, 1.02353102e+07, 1.20450354e+07, 1.41747416e+07,\n       1.66810054e+07, 1.96304065e+07, 2.31012970e+07, 2.71858824e+07,\n       3.19926714e+07, 3.76493581e+07, 4.43062146e+07, 5.21400829e+07,\n       6.13590727e+07, 7.22080902e+07, 8.49753436e+07, 1.00000000e+08]),\n        store_cv_values=True)</pre></div></div></div></div></div>"
     },
     "execution_count": 10,
     "metadata": {},
     "output_type": "execute_result"
    }
   ],
   "source": [
    "# 2. Fit Ridge regression with built-in cross-validation\n",
    "ridge_cv = RidgeCV(alphas=lambd_values_ridge, store_cv_values=True)\n",
    "ridge_cv.fit(X_train, y_train)"
   ],
   "metadata": {
    "collapsed": false,
    "ExecuteTime": {
     "end_time": "2024-03-30T01:55:01.681900Z",
     "start_time": "2024-03-30T01:54:55.604652Z"
    }
   },
   "id": "f469e89fc307c14f",
   "execution_count": 10
  },
  {
   "cell_type": "code",
   "outputs": [
    {
     "data": {
      "text/plain": "Ridge(alpha=220.51307399030458)",
      "text/html": "<style>#sk-container-id-2 {color: black;}#sk-container-id-2 pre{padding: 0;}#sk-container-id-2 div.sk-toggleable {background-color: white;}#sk-container-id-2 label.sk-toggleable__label {cursor: pointer;display: block;width: 100%;margin-bottom: 0;padding: 0.3em;box-sizing: border-box;text-align: center;}#sk-container-id-2 label.sk-toggleable__label-arrow:before {content: \"▸\";float: left;margin-right: 0.25em;color: #696969;}#sk-container-id-2 label.sk-toggleable__label-arrow:hover:before {color: black;}#sk-container-id-2 div.sk-estimator:hover label.sk-toggleable__label-arrow:before {color: black;}#sk-container-id-2 div.sk-toggleable__content {max-height: 0;max-width: 0;overflow: hidden;text-align: left;background-color: #f0f8ff;}#sk-container-id-2 div.sk-toggleable__content pre {margin: 0.2em;color: black;border-radius: 0.25em;background-color: #f0f8ff;}#sk-container-id-2 input.sk-toggleable__control:checked~div.sk-toggleable__content {max-height: 200px;max-width: 100%;overflow: auto;}#sk-container-id-2 input.sk-toggleable__control:checked~label.sk-toggleable__label-arrow:before {content: \"▾\";}#sk-container-id-2 div.sk-estimator input.sk-toggleable__control:checked~label.sk-toggleable__label {background-color: #d4ebff;}#sk-container-id-2 div.sk-label input.sk-toggleable__control:checked~label.sk-toggleable__label {background-color: #d4ebff;}#sk-container-id-2 input.sk-hidden--visually {border: 0;clip: rect(1px 1px 1px 1px);clip: rect(1px, 1px, 1px, 1px);height: 1px;margin: -1px;overflow: hidden;padding: 0;position: absolute;width: 1px;}#sk-container-id-2 div.sk-estimator {font-family: monospace;background-color: #f0f8ff;border: 1px dotted black;border-radius: 0.25em;box-sizing: border-box;margin-bottom: 0.5em;}#sk-container-id-2 div.sk-estimator:hover {background-color: #d4ebff;}#sk-container-id-2 div.sk-parallel-item::after {content: \"\";width: 100%;border-bottom: 1px solid gray;flex-grow: 1;}#sk-container-id-2 div.sk-label:hover label.sk-toggleable__label {background-color: #d4ebff;}#sk-container-id-2 div.sk-serial::before {content: \"\";position: absolute;border-left: 1px solid gray;box-sizing: border-box;top: 0;bottom: 0;left: 50%;z-index: 0;}#sk-container-id-2 div.sk-serial {display: flex;flex-direction: column;align-items: center;background-color: white;padding-right: 0.2em;padding-left: 0.2em;position: relative;}#sk-container-id-2 div.sk-item {position: relative;z-index: 1;}#sk-container-id-2 div.sk-parallel {display: flex;align-items: stretch;justify-content: center;background-color: white;position: relative;}#sk-container-id-2 div.sk-item::before, #sk-container-id-2 div.sk-parallel-item::before {content: \"\";position: absolute;border-left: 1px solid gray;box-sizing: border-box;top: 0;bottom: 0;left: 50%;z-index: -1;}#sk-container-id-2 div.sk-parallel-item {display: flex;flex-direction: column;z-index: 1;position: relative;background-color: white;}#sk-container-id-2 div.sk-parallel-item:first-child::after {align-self: flex-end;width: 50%;}#sk-container-id-2 div.sk-parallel-item:last-child::after {align-self: flex-start;width: 50%;}#sk-container-id-2 div.sk-parallel-item:only-child::after {width: 0;}#sk-container-id-2 div.sk-dashed-wrapped {border: 1px dashed gray;margin: 0 0.4em 0.5em 0.4em;box-sizing: border-box;padding-bottom: 0.4em;background-color: white;}#sk-container-id-2 div.sk-label label {font-family: monospace;font-weight: bold;display: inline-block;line-height: 1.2em;}#sk-container-id-2 div.sk-label-container {text-align: center;}#sk-container-id-2 div.sk-container {/* jupyter's `normalize.less` sets `[hidden] { display: none; }` but bootstrap.min.css set `[hidden] { display: none !important; }` so we also need the `!important` here to be able to override the default hidden behavior on the sphinx rendered scikit-learn.org. See: https://github.com/scikit-learn/scikit-learn/issues/21755 */display: inline-block !important;position: relative;}#sk-container-id-2 div.sk-text-repr-fallback {display: none;}</style><div id=\"sk-container-id-2\" class=\"sk-top-container\"><div class=\"sk-text-repr-fallback\"><pre>Ridge(alpha=220.51307399030458)</pre><b>In a Jupyter environment, please rerun this cell to show the HTML representation or trust the notebook. <br />On GitHub, the HTML representation is unable to render, please try loading this page with nbviewer.org.</b></div><div class=\"sk-container\" hidden><div class=\"sk-item\"><div class=\"sk-estimator sk-toggleable\"><input class=\"sk-toggleable__control sk-hidden--visually\" id=\"sk-estimator-id-2\" type=\"checkbox\" checked><label for=\"sk-estimator-id-2\" class=\"sk-toggleable__label sk-toggleable__label-arrow\">Ridge</label><div class=\"sk-toggleable__content\"><pre>Ridge(alpha=220.51307399030458)</pre></div></div></div></div></div>"
     },
     "execution_count": 11,
     "metadata": {},
     "output_type": "execute_result"
    }
   ],
   "source": [
    "# 3. Fit the model with the selected lambda\n",
    "ridge_model = Ridge(alpha=ridge_cv.alpha_)\n",
    "ridge_model.fit(X_train, y_train)"
   ],
   "metadata": {
    "collapsed": false,
    "ExecuteTime": {
     "end_time": "2024-03-30T01:55:04.312634Z",
     "start_time": "2024-03-30T01:55:04.214111Z"
    }
   },
   "id": "bdbd6276560276c1",
   "execution_count": 11
  },
  {
   "cell_type": "code",
   "outputs": [],
   "source": [
    "# 4. Extract the ridge coefficients\n",
    "ridge_coefficients = ridge_model.coef_"
   ],
   "metadata": {
    "collapsed": false,
    "ExecuteTime": {
     "end_time": "2024-03-30T01:55:15.603728Z",
     "start_time": "2024-03-30T01:55:15.595728Z"
    }
   },
   "id": "d78baced5d95d914",
   "execution_count": 12
  },
  {
   "cell_type": "code",
   "outputs": [],
   "source": [
    "# 5. Predict the test set\n",
    "y_pred_ridge = ridge_model.predict(X_test)"
   ],
   "metadata": {
    "collapsed": false,
    "ExecuteTime": {
     "end_time": "2024-03-30T01:55:15.981888Z",
     "start_time": "2024-03-30T01:55:15.965884Z"
    }
   },
   "id": "74f7ffc93ba1a64b",
   "execution_count": 13
  },
  {
   "cell_type": "code",
   "outputs": [
    {
     "data": {
      "text/plain": "{'AIC': None,\n 'R2': 0.858229094231964,\n 'RMSE': 8.420103292960205,\n 'MAE': 6.213675468649426,\n 'num_variables': 360}"
     },
     "execution_count": 15,
     "metadata": {},
     "output_type": "execute_result"
    }
   ],
   "source": [
    "# Performance Metrics for Ridge\n",
    "validation_ridge = {\n",
    "    'AIC': None, # AIC is not typically used in ridge regression\n",
    "    'R2': r2_score(y_test, y_pred_ridge),\n",
    "    'RMSE': np.sqrt(mean_squared_error(y_test, y_pred_ridge)),\n",
    "    'MAE': mean_absolute_error(y_test, y_pred_ridge),\n",
    "    'num_variables': np.sum(ridge_coefficients != 0)\n",
    "}\n",
    "validation_ridge"
   ],
   "metadata": {
    "collapsed": false,
    "ExecuteTime": {
     "end_time": "2024-03-30T01:55:28.346711Z",
     "start_time": "2024-03-30T01:55:28.330183Z"
    }
   },
   "id": "dba44b58a13794b2",
   "execution_count": 15
  },
  {
   "cell_type": "markdown",
   "source": [
    "## Lasso Model"
   ],
   "metadata": {
    "collapsed": false
   },
   "id": "5056729d3188674a"
  },
  {
   "cell_type": "code",
   "outputs": [],
   "source": [
    "# 6. Fit lasso model for a range of hyperparameters\n",
    "lambd_values_lasso = np.logspace(-2, 2, 100)"
   ],
   "metadata": {
    "collapsed": false,
    "ExecuteTime": {
     "end_time": "2024-03-30T02:10:15.065506Z",
     "start_time": "2024-03-30T02:10:15.055507Z"
    }
   },
   "id": "123f11bfc89eafc2",
   "execution_count": 27
  },
  {
   "cell_type": "code",
   "outputs": [
    {
     "data": {
      "text/plain": "LassoCV(alphas=array([1.00000000e-02, 1.09749877e-02, 1.20450354e-02, 1.32194115e-02,\n       1.45082878e-02, 1.59228279e-02, 1.74752840e-02, 1.91791026e-02,\n       2.10490414e-02, 2.31012970e-02, 2.53536449e-02, 2.78255940e-02,\n       3.05385551e-02, 3.35160265e-02, 3.67837977e-02, 4.03701726e-02,\n       4.43062146e-02, 4.86260158e-02, 5.33669923e-02, 5.85702082e-02,\n       6.42807312e-02, 7.05480231e-0...\n       1.17681195e+01, 1.29154967e+01, 1.41747416e+01, 1.55567614e+01,\n       1.70735265e+01, 1.87381742e+01, 2.05651231e+01, 2.25701972e+01,\n       2.47707636e+01, 2.71858824e+01, 2.98364724e+01, 3.27454916e+01,\n       3.59381366e+01, 3.94420606e+01, 4.32876128e+01, 4.75081016e+01,\n       5.21400829e+01, 5.72236766e+01, 6.28029144e+01, 6.89261210e+01,\n       7.56463328e+01, 8.30217568e+01, 9.11162756e+01, 1.00000000e+02]),\n        cv=5, max_iter=10000, n_jobs=-1)",
      "text/html": "<style>#sk-container-id-3 {color: black;}#sk-container-id-3 pre{padding: 0;}#sk-container-id-3 div.sk-toggleable {background-color: white;}#sk-container-id-3 label.sk-toggleable__label {cursor: pointer;display: block;width: 100%;margin-bottom: 0;padding: 0.3em;box-sizing: border-box;text-align: center;}#sk-container-id-3 label.sk-toggleable__label-arrow:before {content: \"▸\";float: left;margin-right: 0.25em;color: #696969;}#sk-container-id-3 label.sk-toggleable__label-arrow:hover:before {color: black;}#sk-container-id-3 div.sk-estimator:hover label.sk-toggleable__label-arrow:before {color: black;}#sk-container-id-3 div.sk-toggleable__content {max-height: 0;max-width: 0;overflow: hidden;text-align: left;background-color: #f0f8ff;}#sk-container-id-3 div.sk-toggleable__content pre {margin: 0.2em;color: black;border-radius: 0.25em;background-color: #f0f8ff;}#sk-container-id-3 input.sk-toggleable__control:checked~div.sk-toggleable__content {max-height: 200px;max-width: 100%;overflow: auto;}#sk-container-id-3 input.sk-toggleable__control:checked~label.sk-toggleable__label-arrow:before {content: \"▾\";}#sk-container-id-3 div.sk-estimator input.sk-toggleable__control:checked~label.sk-toggleable__label {background-color: #d4ebff;}#sk-container-id-3 div.sk-label input.sk-toggleable__control:checked~label.sk-toggleable__label {background-color: #d4ebff;}#sk-container-id-3 input.sk-hidden--visually {border: 0;clip: rect(1px 1px 1px 1px);clip: rect(1px, 1px, 1px, 1px);height: 1px;margin: -1px;overflow: hidden;padding: 0;position: absolute;width: 1px;}#sk-container-id-3 div.sk-estimator {font-family: monospace;background-color: #f0f8ff;border: 1px dotted black;border-radius: 0.25em;box-sizing: border-box;margin-bottom: 0.5em;}#sk-container-id-3 div.sk-estimator:hover {background-color: #d4ebff;}#sk-container-id-3 div.sk-parallel-item::after {content: \"\";width: 100%;border-bottom: 1px solid gray;flex-grow: 1;}#sk-container-id-3 div.sk-label:hover label.sk-toggleable__label {background-color: #d4ebff;}#sk-container-id-3 div.sk-serial::before {content: \"\";position: absolute;border-left: 1px solid gray;box-sizing: border-box;top: 0;bottom: 0;left: 50%;z-index: 0;}#sk-container-id-3 div.sk-serial {display: flex;flex-direction: column;align-items: center;background-color: white;padding-right: 0.2em;padding-left: 0.2em;position: relative;}#sk-container-id-3 div.sk-item {position: relative;z-index: 1;}#sk-container-id-3 div.sk-parallel {display: flex;align-items: stretch;justify-content: center;background-color: white;position: relative;}#sk-container-id-3 div.sk-item::before, #sk-container-id-3 div.sk-parallel-item::before {content: \"\";position: absolute;border-left: 1px solid gray;box-sizing: border-box;top: 0;bottom: 0;left: 50%;z-index: -1;}#sk-container-id-3 div.sk-parallel-item {display: flex;flex-direction: column;z-index: 1;position: relative;background-color: white;}#sk-container-id-3 div.sk-parallel-item:first-child::after {align-self: flex-end;width: 50%;}#sk-container-id-3 div.sk-parallel-item:last-child::after {align-self: flex-start;width: 50%;}#sk-container-id-3 div.sk-parallel-item:only-child::after {width: 0;}#sk-container-id-3 div.sk-dashed-wrapped {border: 1px dashed gray;margin: 0 0.4em 0.5em 0.4em;box-sizing: border-box;padding-bottom: 0.4em;background-color: white;}#sk-container-id-3 div.sk-label label {font-family: monospace;font-weight: bold;display: inline-block;line-height: 1.2em;}#sk-container-id-3 div.sk-label-container {text-align: center;}#sk-container-id-3 div.sk-container {/* jupyter's `normalize.less` sets `[hidden] { display: none; }` but bootstrap.min.css set `[hidden] { display: none !important; }` so we also need the `!important` here to be able to override the default hidden behavior on the sphinx rendered scikit-learn.org. See: https://github.com/scikit-learn/scikit-learn/issues/21755 */display: inline-block !important;position: relative;}#sk-container-id-3 div.sk-text-repr-fallback {display: none;}</style><div id=\"sk-container-id-3\" class=\"sk-top-container\"><div class=\"sk-text-repr-fallback\"><pre>LassoCV(alphas=array([1.00000000e-02, 1.09749877e-02, 1.20450354e-02, 1.32194115e-02,\n       1.45082878e-02, 1.59228279e-02, 1.74752840e-02, 1.91791026e-02,\n       2.10490414e-02, 2.31012970e-02, 2.53536449e-02, 2.78255940e-02,\n       3.05385551e-02, 3.35160265e-02, 3.67837977e-02, 4.03701726e-02,\n       4.43062146e-02, 4.86260158e-02, 5.33669923e-02, 5.85702082e-02,\n       6.42807312e-02, 7.05480231e-0...\n       1.17681195e+01, 1.29154967e+01, 1.41747416e+01, 1.55567614e+01,\n       1.70735265e+01, 1.87381742e+01, 2.05651231e+01, 2.25701972e+01,\n       2.47707636e+01, 2.71858824e+01, 2.98364724e+01, 3.27454916e+01,\n       3.59381366e+01, 3.94420606e+01, 4.32876128e+01, 4.75081016e+01,\n       5.21400829e+01, 5.72236766e+01, 6.28029144e+01, 6.89261210e+01,\n       7.56463328e+01, 8.30217568e+01, 9.11162756e+01, 1.00000000e+02]),\n        cv=5, max_iter=10000, n_jobs=-1)</pre><b>In a Jupyter environment, please rerun this cell to show the HTML representation or trust the notebook. <br />On GitHub, the HTML representation is unable to render, please try loading this page with nbviewer.org.</b></div><div class=\"sk-container\" hidden><div class=\"sk-item\"><div class=\"sk-estimator sk-toggleable\"><input class=\"sk-toggleable__control sk-hidden--visually\" id=\"sk-estimator-id-3\" type=\"checkbox\" checked><label for=\"sk-estimator-id-3\" class=\"sk-toggleable__label sk-toggleable__label-arrow\">LassoCV</label><div class=\"sk-toggleable__content\"><pre>LassoCV(alphas=array([1.00000000e-02, 1.09749877e-02, 1.20450354e-02, 1.32194115e-02,\n       1.45082878e-02, 1.59228279e-02, 1.74752840e-02, 1.91791026e-02,\n       2.10490414e-02, 2.31012970e-02, 2.53536449e-02, 2.78255940e-02,\n       3.05385551e-02, 3.35160265e-02, 3.67837977e-02, 4.03701726e-02,\n       4.43062146e-02, 4.86260158e-02, 5.33669923e-02, 5.85702082e-02,\n       6.42807312e-02, 7.05480231e-0...\n       1.17681195e+01, 1.29154967e+01, 1.41747416e+01, 1.55567614e+01,\n       1.70735265e+01, 1.87381742e+01, 2.05651231e+01, 2.25701972e+01,\n       2.47707636e+01, 2.71858824e+01, 2.98364724e+01, 3.27454916e+01,\n       3.59381366e+01, 3.94420606e+01, 4.32876128e+01, 4.75081016e+01,\n       5.21400829e+01, 5.72236766e+01, 6.28029144e+01, 6.89261210e+01,\n       7.56463328e+01, 8.30217568e+01, 9.11162756e+01, 1.00000000e+02]),\n        cv=5, max_iter=10000, n_jobs=-1)</pre></div></div></div></div></div>"
     },
     "execution_count": 18,
     "metadata": {},
     "output_type": "execute_result"
    }
   ],
   "source": [
    "# 7. Use cross validation (LassoCV) to find lambda parameter value\n",
    "lasso_cv = LassoCV(alphas=lambd_values_lasso, cv=5, max_iter=10000, n_jobs=-1)\n",
    "lasso_cv.fit(X_train, y_train)"
   ],
   "metadata": {
    "collapsed": false,
    "ExecuteTime": {
     "end_time": "2024-03-30T02:00:17.135237Z",
     "start_time": "2024-03-30T02:00:01.295314Z"
    }
   },
   "id": "226173ffa60b0a90",
   "execution_count": 18
  },
  {
   "cell_type": "code",
   "outputs": [
    {
     "data": {
      "text/plain": "Lasso(alpha=0.01)",
      "text/html": "<style>#sk-container-id-4 {color: black;}#sk-container-id-4 pre{padding: 0;}#sk-container-id-4 div.sk-toggleable {background-color: white;}#sk-container-id-4 label.sk-toggleable__label {cursor: pointer;display: block;width: 100%;margin-bottom: 0;padding: 0.3em;box-sizing: border-box;text-align: center;}#sk-container-id-4 label.sk-toggleable__label-arrow:before {content: \"▸\";float: left;margin-right: 0.25em;color: #696969;}#sk-container-id-4 label.sk-toggleable__label-arrow:hover:before {color: black;}#sk-container-id-4 div.sk-estimator:hover label.sk-toggleable__label-arrow:before {color: black;}#sk-container-id-4 div.sk-toggleable__content {max-height: 0;max-width: 0;overflow: hidden;text-align: left;background-color: #f0f8ff;}#sk-container-id-4 div.sk-toggleable__content pre {margin: 0.2em;color: black;border-radius: 0.25em;background-color: #f0f8ff;}#sk-container-id-4 input.sk-toggleable__control:checked~div.sk-toggleable__content {max-height: 200px;max-width: 100%;overflow: auto;}#sk-container-id-4 input.sk-toggleable__control:checked~label.sk-toggleable__label-arrow:before {content: \"▾\";}#sk-container-id-4 div.sk-estimator input.sk-toggleable__control:checked~label.sk-toggleable__label {background-color: #d4ebff;}#sk-container-id-4 div.sk-label input.sk-toggleable__control:checked~label.sk-toggleable__label {background-color: #d4ebff;}#sk-container-id-4 input.sk-hidden--visually {border: 0;clip: rect(1px 1px 1px 1px);clip: rect(1px, 1px, 1px, 1px);height: 1px;margin: -1px;overflow: hidden;padding: 0;position: absolute;width: 1px;}#sk-container-id-4 div.sk-estimator {font-family: monospace;background-color: #f0f8ff;border: 1px dotted black;border-radius: 0.25em;box-sizing: border-box;margin-bottom: 0.5em;}#sk-container-id-4 div.sk-estimator:hover {background-color: #d4ebff;}#sk-container-id-4 div.sk-parallel-item::after {content: \"\";width: 100%;border-bottom: 1px solid gray;flex-grow: 1;}#sk-container-id-4 div.sk-label:hover label.sk-toggleable__label {background-color: #d4ebff;}#sk-container-id-4 div.sk-serial::before {content: \"\";position: absolute;border-left: 1px solid gray;box-sizing: border-box;top: 0;bottom: 0;left: 50%;z-index: 0;}#sk-container-id-4 div.sk-serial {display: flex;flex-direction: column;align-items: center;background-color: white;padding-right: 0.2em;padding-left: 0.2em;position: relative;}#sk-container-id-4 div.sk-item {position: relative;z-index: 1;}#sk-container-id-4 div.sk-parallel {display: flex;align-items: stretch;justify-content: center;background-color: white;position: relative;}#sk-container-id-4 div.sk-item::before, #sk-container-id-4 div.sk-parallel-item::before {content: \"\";position: absolute;border-left: 1px solid gray;box-sizing: border-box;top: 0;bottom: 0;left: 50%;z-index: -1;}#sk-container-id-4 div.sk-parallel-item {display: flex;flex-direction: column;z-index: 1;position: relative;background-color: white;}#sk-container-id-4 div.sk-parallel-item:first-child::after {align-self: flex-end;width: 50%;}#sk-container-id-4 div.sk-parallel-item:last-child::after {align-self: flex-start;width: 50%;}#sk-container-id-4 div.sk-parallel-item:only-child::after {width: 0;}#sk-container-id-4 div.sk-dashed-wrapped {border: 1px dashed gray;margin: 0 0.4em 0.5em 0.4em;box-sizing: border-box;padding-bottom: 0.4em;background-color: white;}#sk-container-id-4 div.sk-label label {font-family: monospace;font-weight: bold;display: inline-block;line-height: 1.2em;}#sk-container-id-4 div.sk-label-container {text-align: center;}#sk-container-id-4 div.sk-container {/* jupyter's `normalize.less` sets `[hidden] { display: none; }` but bootstrap.min.css set `[hidden] { display: none !important; }` so we also need the `!important` here to be able to override the default hidden behavior on the sphinx rendered scikit-learn.org. See: https://github.com/scikit-learn/scikit-learn/issues/21755 */display: inline-block !important;position: relative;}#sk-container-id-4 div.sk-text-repr-fallback {display: none;}</style><div id=\"sk-container-id-4\" class=\"sk-top-container\"><div class=\"sk-text-repr-fallback\"><pre>Lasso(alpha=0.01)</pre><b>In a Jupyter environment, please rerun this cell to show the HTML representation or trust the notebook. <br />On GitHub, the HTML representation is unable to render, please try loading this page with nbviewer.org.</b></div><div class=\"sk-container\" hidden><div class=\"sk-item\"><div class=\"sk-estimator sk-toggleable\"><input class=\"sk-toggleable__control sk-hidden--visually\" id=\"sk-estimator-id-4\" type=\"checkbox\" checked><label for=\"sk-estimator-id-4\" class=\"sk-toggleable__label sk-toggleable__label-arrow\">Lasso</label><div class=\"sk-toggleable__content\"><pre>Lasso(alpha=0.01)</pre></div></div></div></div></div>"
     },
     "execution_count": 19,
     "metadata": {},
     "output_type": "execute_result"
    }
   ],
   "source": [
    "# 8. Fit the model with the selected lambda\n",
    "lasso_model = Lasso(alpha=lasso_cv.alpha_)\n",
    "lasso_model.fit(X_train, y_train)"
   ],
   "metadata": {
    "collapsed": false,
    "ExecuteTime": {
     "end_time": "2024-03-30T02:01:37.384387Z",
     "start_time": "2024-03-30T02:01:22.721561Z"
    }
   },
   "id": "7ccf6d5a21361aed",
   "execution_count": 19
  },
  {
   "cell_type": "code",
   "outputs": [],
   "source": [
    "# 9. Find lasso coefficients and check if any of them were removed by regularization\n",
    "lasso_coefficients = lasso_model.coef_"
   ],
   "metadata": {
    "collapsed": false,
    "ExecuteTime": {
     "end_time": "2024-03-30T02:01:37.400430Z",
     "start_time": "2024-03-30T02:01:37.385432Z"
    }
   },
   "id": "8c7fc2d5dc5448f",
   "execution_count": 20
  },
  {
   "cell_type": "code",
   "outputs": [],
   "source": [
    "# 10. Predict the test set\n",
    "y_pred_lasso = lasso_model.predict(X_test)"
   ],
   "metadata": {
    "collapsed": false,
    "ExecuteTime": {
     "end_time": "2024-03-30T02:01:37.416351Z",
     "start_time": "2024-03-30T02:01:37.401344Z"
    }
   },
   "id": "7744e9dcad9e5b21",
   "execution_count": 21
  },
  {
   "cell_type": "code",
   "outputs": [
    {
     "data": {
      "text/plain": "{'AIC': None,\n 'R2': 0.8580481710035675,\n 'RMSE': 8.425474305254362,\n 'MAE': 6.2043910454752424,\n 'num_variables': 325}"
     },
     "execution_count": 22,
     "metadata": {},
     "output_type": "execute_result"
    }
   ],
   "source": [
    "# Performance Metrics for Lasso\n",
    "validation_lasso = {\n",
    "    'AIC': None, # AIC is not typically used in lasso regression\n",
    "    'R2': r2_score(y_test, y_pred_lasso),\n",
    "    'RMSE': np.sqrt(mean_squared_error(y_test, y_pred_lasso)),\n",
    "    'MAE': mean_absolute_error(y_test, y_pred_lasso),\n",
    "    'num_variables': np.sum(lasso_coefficients != 0)\n",
    "}\n",
    "validation_lasso"
   ],
   "metadata": {
    "collapsed": false,
    "ExecuteTime": {
     "end_time": "2024-03-30T02:01:37.431369Z",
     "start_time": "2024-03-30T02:01:37.417346Z"
    }
   },
   "id": "65382c55331a0086",
   "execution_count": 22
  },
  {
   "cell_type": "markdown",
   "source": [
    "## Dump Answer"
   ],
   "metadata": {
    "collapsed": false
   },
   "id": "7f018b30cca5796d"
  },
  {
   "cell_type": "code",
   "outputs": [
    {
     "data": {
      "text/plain": "{'validation_reduced_lm': {'AIC': 302514.48178790975,\n  'R2': 0.8638882045172942,\n  'RMSE': 8.450981711744108,\n  'MAE': 6.249744339096156,\n  'num_variables': 245},\n 'validation_PCR': {'AIC': 302506.1882273548,\n  'R2': 0.8638954982621725,\n  'RMSE': 8.447360569858315,\n  'MAE': 6.245095210025417,\n  'num_variables': 242},\n 'validation_ridge': {'AIC': None,\n  'R2': 0.858229094231964,\n  'RMSE': 8.420103292960205,\n  'MAE': 6.213675468649426,\n  'num_variables': 360},\n 'validation_lasso': {'AIC': None,\n  'R2': 0.8580481710035675,\n  'RMSE': 8.425474305254362,\n  'MAE': 6.2043910454752424,\n  'num_variables': 325}}"
     },
     "execution_count": 24,
     "metadata": {},
     "output_type": "execute_result"
    }
   ],
   "source": [
    "old_results['Validation']['validation_ridge'] = validation_ridge\n",
    "old_results['Validation']['validation_lasso'] = validation_lasso\n",
    "old_results['Validation']"
   ],
   "metadata": {
    "collapsed": false,
    "ExecuteTime": {
     "end_time": "2024-03-30T02:03:12.134092Z",
     "start_time": "2024-03-30T02:03:12.122088Z"
    }
   },
   "id": "ed9770d4580cbe16",
   "execution_count": 24
  },
  {
   "cell_type": "markdown",
   "source": [],
   "metadata": {
    "collapsed": false
   },
   "id": "6fdb1cbafead2c64"
  },
  {
   "cell_type": "code",
   "outputs": [],
   "source": [
    "res = {'Validation': old_results['Validation'],\n",
    "        'Ridge_Model' : ridge_model,\n",
    "        'Lasso_Model' : lasso_model}"
   ],
   "metadata": {
    "collapsed": false,
    "ExecuteTime": {
     "end_time": "2024-03-30T02:06:26.126179Z",
     "start_time": "2024-03-30T02:06:26.117180Z"
    }
   },
   "id": "b96847c3a5676532",
   "execution_count": 25
  },
  {
   "cell_type": "code",
   "outputs": [],
   "source": [
    "with open('result1.pickle', 'wb') as f:\n",
    "    pickle.dump(res,f)"
   ],
   "metadata": {
    "collapsed": false,
    "ExecuteTime": {
     "end_time": "2024-03-30T02:06:43.703346Z",
     "start_time": "2024-03-30T02:06:43.685338Z"
    }
   },
   "id": "32cf4fe4921b03df",
   "execution_count": 26
  }
 ],
 "metadata": {
  "kernelspec": {
   "display_name": "Python 3",
   "language": "python",
   "name": "python3"
  },
  "language_info": {
   "codemirror_mode": {
    "name": "ipython",
    "version": 2
   },
   "file_extension": ".py",
   "mimetype": "text/x-python",
   "name": "python",
   "nbconvert_exporter": "python",
   "pygments_lexer": "ipython2",
   "version": "2.7.6"
  }
 },
 "nbformat": 4,
 "nbformat_minor": 5
}
