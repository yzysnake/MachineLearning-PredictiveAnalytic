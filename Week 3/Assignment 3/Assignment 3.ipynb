{
 "cells": [
  {
   "cell_type": "code",
   "execution_count": 6,
   "id": "initial_id",
   "metadata": {
    "collapsed": true,
    "ExecuteTime": {
     "end_time": "2024-04-06T05:31:12.768831Z",
     "start_time": "2024-04-06T05:31:12.603118Z"
    }
   },
   "outputs": [],
   "source": [
    "import numpy as np\n",
    "import pandas as pd\n",
    "from sklearn.tree import DecisionTreeRegressor\n",
    "from sklearn.model_selection import GridSearchCV\n",
    "from sklearn.metrics import mean_squared_error"
   ]
  },
  {
   "cell_type": "markdown",
   "source": [
    " ## Read Data"
   ],
   "metadata": {
    "collapsed": false
   },
   "id": "da529a586614cee8"
  },
  {
   "cell_type": "code",
   "outputs": [],
   "source": [
    "data = pd.read_csv(\"test_sample.csv\")"
   ],
   "metadata": {
    "collapsed": false,
    "ExecuteTime": {
     "end_time": "2024-04-06T05:26:53.721298Z",
     "start_time": "2024-04-06T05:26:53.712535Z"
    }
   },
   "id": "9a17bf87d27d3011",
   "execution_count": 2
  },
  {
   "cell_type": "code",
   "outputs": [
    {
     "data": {
      "text/plain": "(1000, 4)"
     },
     "execution_count": 3,
     "metadata": {},
     "output_type": "execute_result"
    }
   ],
   "source": [
    "data.shape"
   ],
   "metadata": {
    "collapsed": false,
    "ExecuteTime": {
     "end_time": "2024-04-06T05:26:54.227364Z",
     "start_time": "2024-04-06T05:26:54.223978Z"
    }
   },
   "id": "1b521b43af3ced31",
   "execution_count": 3
  },
  {
   "cell_type": "code",
   "outputs": [
    {
     "data": {
      "text/plain": "   Y  X1  X2  X3\n0  0   2   3   5\n1  0   2   4   7\n2  0   3   2   5\n3  0   5   6   3\n4  0   2   1   1",
      "text/html": "<div>\n<style scoped>\n    .dataframe tbody tr th:only-of-type {\n        vertical-align: middle;\n    }\n\n    .dataframe tbody tr th {\n        vertical-align: top;\n    }\n\n    .dataframe thead th {\n        text-align: right;\n    }\n</style>\n<table border=\"1\" class=\"dataframe\">\n  <thead>\n    <tr style=\"text-align: right;\">\n      <th></th>\n      <th>Y</th>\n      <th>X1</th>\n      <th>X2</th>\n      <th>X3</th>\n    </tr>\n  </thead>\n  <tbody>\n    <tr>\n      <th>0</th>\n      <td>0</td>\n      <td>2</td>\n      <td>3</td>\n      <td>5</td>\n    </tr>\n    <tr>\n      <th>1</th>\n      <td>0</td>\n      <td>2</td>\n      <td>4</td>\n      <td>7</td>\n    </tr>\n    <tr>\n      <th>2</th>\n      <td>0</td>\n      <td>3</td>\n      <td>2</td>\n      <td>5</td>\n    </tr>\n    <tr>\n      <th>3</th>\n      <td>0</td>\n      <td>5</td>\n      <td>6</td>\n      <td>3</td>\n    </tr>\n    <tr>\n      <th>4</th>\n      <td>0</td>\n      <td>2</td>\n      <td>1</td>\n      <td>1</td>\n    </tr>\n  </tbody>\n</table>\n</div>"
     },
     "execution_count": 4,
     "metadata": {},
     "output_type": "execute_result"
    }
   ],
   "source": [
    "data.head()"
   ],
   "metadata": {
    "collapsed": false,
    "ExecuteTime": {
     "end_time": "2024-04-06T05:26:54.717141Z",
     "start_time": "2024-04-06T05:26:54.712340Z"
    }
   },
   "id": "99730111d28a7a3d",
   "execution_count": 4
  },
  {
   "cell_type": "code",
   "outputs": [],
   "source": [
    "# Prepare the data\n",
    "X = data.drop('Y', axis=1)  # independent variables\n",
    "y = data['Y']  # dependent variable"
   ],
   "metadata": {
    "collapsed": false,
    "ExecuteTime": {
     "end_time": "2024-04-06T05:31:15.522229Z",
     "start_time": "2024-04-06T05:31:15.518880Z"
    }
   },
   "id": "8b59c40528f2b4b8",
   "execution_count": 7
  },
  {
   "cell_type": "markdown",
   "source": [
    "## Optimal ccp_alpha value"
   ],
   "metadata": {
    "collapsed": false
   },
   "id": "b2ee9d2fc4fec8a8"
  },
  {
   "cell_type": "code",
   "outputs": [
    {
     "data": {
      "text/plain": "0.06000000000000001"
     },
     "execution_count": 8,
     "metadata": {},
     "output_type": "execute_result"
    }
   ],
   "source": [
    "# Setup the grid of ccp_alpha values and the GridSearchCV with 10-fold cross-validation\n",
    "param_grid = {'ccp_alpha': np.linspace(0.01, 0.1, 10)}\n",
    "tree_regressor = DecisionTreeRegressor(random_state=0)\n",
    "grid_search = GridSearchCV(tree_regressor, param_grid, cv=10, scoring='neg_mean_squared_error')\n",
    "\n",
    "# Perform grid search\n",
    "grid_search.fit(X, y)\n",
    "\n",
    "# Retrieve the best ccp_alpha value\n",
    "optimal_ccp_alpha = grid_search.best_params_['ccp_alpha']\n",
    "optimal_ccp_alpha"
   ],
   "metadata": {
    "collapsed": false,
    "ExecuteTime": {
     "end_time": "2024-04-06T05:31:16.821469Z",
     "start_time": "2024-04-06T05:31:16.594073Z"
    }
   },
   "id": "6fa4011cbf55c765",
   "execution_count": 8
  },
  {
   "cell_type": "markdown",
   "source": [
    "## Tree regression MSE"
   ],
   "metadata": {
    "collapsed": false
   },
   "id": "d81b5458ec7c2da3"
  },
  {
   "cell_type": "code",
   "outputs": [
    {
     "data": {
      "text/plain": "1.1841190000000001"
     },
     "execution_count": 9,
     "metadata": {},
     "output_type": "execute_result"
    }
   ],
   "source": [
    "# Fit DecisionTreeRegressor with the optimal ccp_alpha parameter\n",
    "optimal_tree_regressor = DecisionTreeRegressor(ccp_alpha=optimal_ccp_alpha, random_state=0)\n",
    "optimal_tree_regressor.fit(X, y)\n",
    "\n",
    "# Predict using the fitted model\n",
    "y_pred = optimal_tree_regressor.predict(X)\n",
    "\n",
    "# Calculate the mean squared error of the fitted model\n",
    "tree_regression_mse = mean_squared_error(y, y_pred)\n",
    "tree_regression_mse"
   ],
   "metadata": {
    "collapsed": false,
    "ExecuteTime": {
     "end_time": "2024-04-06T05:31:41.814454Z",
     "start_time": "2024-04-06T05:31:41.808858Z"
    }
   },
   "id": "72a29b05f7e47e41",
   "execution_count": 9
  },
  {
   "cell_type": "code",
   "outputs": [],
   "source": [],
   "metadata": {
    "collapsed": false
   },
   "id": "388b9e075e5b702b"
  }
 ],
 "metadata": {
  "kernelspec": {
   "display_name": "Python 3",
   "language": "python",
   "name": "python3"
  },
  "language_info": {
   "codemirror_mode": {
    "name": "ipython",
    "version": 2
   },
   "file_extension": ".py",
   "mimetype": "text/x-python",
   "name": "python",
   "nbconvert_exporter": "python",
   "pygments_lexer": "ipython2",
   "version": "2.7.6"
  }
 },
 "nbformat": 4,
 "nbformat_minor": 5
}
